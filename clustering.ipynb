{
 "cells": [
  {
   "cell_type": "code",
   "execution_count": 26,
   "metadata": {},
   "outputs": [
    {
     "name": "stdout",
     "output_type": "stream",
     "text": [
      "num_differences([1,2,3],[2,1,3]) = 2\n",
      "num_differences([1,2],[1,2]) = 0\n"
     ]
    }
   ],
   "source": [
    "from vector_operations import Vector\n",
    "\n",
    "def num_differences(v1: Vector, v2: Vector) -> int:\n",
    "    assert len(v1) == len(v2)\n",
    "    return len([x1 for x1, x2 in zip(v1,v2) if x1 != x2])\n",
    "\n",
    "print(f'num_differences([1,2,3],[2,1,3]) = {num_differences([1,2,3],[2,1,3])}')\n",
    "print(f'num_differences([1,2],[1,2]) = {num_differences([1,2],[1,2])}')"
   ]
  },
  {
   "cell_type": "code",
   "execution_count": 27,
   "metadata": {},
   "outputs": [],
   "source": [
    "from typing import List\n",
    "from vector_operations import vector_mean\n",
    "import random\n",
    "\n",
    "def cluster_means(k: int,\n",
    "                 imputs: List[Vector],\n",
    "                 assignments: List[int]) -> List[Vector]:\n",
    "    # cluster i contains the inputs whose assignment is i\n",
    "    clusters = [[] for i in range(k)]\n",
    "    \n",
    "    for input, assignment in zip(inputs, assignments):\n",
    "        clusters[assignment].append(input)\n",
    "        \n",
    "    # if cluster is empty then just use a random point\n",
    "    return [vector_mean(cluster) if cluster else random.choice(inputs)\n",
    "            for cluster in clusters]"
   ]
  },
  {
   "cell_type": "code",
   "execution_count": 28,
   "metadata": {},
   "outputs": [],
   "source": [
    "import itertools\n",
    "import tqdm\n",
    "from vector_operations import squared_distance\n",
    "\n",
    "class kMeans:\n",
    "    def __init__(self, k: int) -> None:\n",
    "        self.k = k # number of clusters\n",
    "        self.means = None\n",
    "        \n",
    "    def classify(self, input: Vector)->int:\n",
    "        \"\"\"Return the index of the cluster closest to the input\"\"\"\n",
    "        return min(range(self.k),\n",
    "                   key = lambda i: squared_distance(input,self.means[i]))\n",
    "    \n",
    "    def train(self, inputs: List[Vector]) -> None:\n",
    "        # Start with random assignments\n",
    "        assignments = [random.randrange(self.k) for _ in inputs]\n",
    "        #print(inputs[:10])\n",
    "        #print(assignments[:10])\n",
    "        with tqdm.tqdm(itertools.count()) as t:\n",
    "            for _ in t:\n",
    "                # Compute means and find new assignments\n",
    "                self.means = cluster_means(self.k, inputs, assignments)\n",
    "                #print(self.means)\n",
    "                new_assignments = [self.classify(input) for input in inputs]\n",
    "                \n",
    "                # Check how many assignments changed and if we are done\n",
    "                \n",
    "                num_changed = num_differences(assignments, new_assignments)\n",
    "                \n",
    "                if num_changed == 0:\n",
    "                    return\n",
    "                # Otherwise keep the new assignments and compute new means\n",
    "                assignments = new_assignments\n",
    "                self.means = cluster_means(self.k, inputs, assignments)\n",
    "                t.set_description(f\"changed: {num_changed}/{len(inputs)}\")  "
   ]
  },
  {
   "cell_type": "code",
   "execution_count": 29,
   "metadata": {},
   "outputs": [
    {
     "name": "stderr",
     "output_type": "stream",
     "text": [
      "changed: 5/20: : 0it [00:00, ?it/s]\n"
     ]
    }
   ],
   "source": [
    "# Example: meetups\n",
    "\n",
    "inputs: List[List[float]] = [[-14,-5],[13,13],[20,23],[-19,-11],[-9,-16],[21,27],[-49,15],[26,13],[-46,5],[-34,-1],[11,15],[-49,0],[-22,-16],[19,28],[-12,-8],[-13,-19],[-41,8],[-11,-6],[-25,-9],[-18,-3]]\n",
    "\n",
    "random.seed(12)\n",
    "clusterer = kMeans(k = 3)\n",
    "clusterer.train(inputs)\n",
    "\n",
    "means = sorted(clusterer.means) # sort for the unit test\n",
    "\n",
    "# Check that the means are close to what we expect\n",
    "assert squared_distance(means[0], [-44, 5]) < 1\n",
    "assert squared_distance(means[1], [-16, -10]) < 1\n",
    "assert squared_distance(means[2], [18, 20]) < 1    "
   ]
  },
  {
   "cell_type": "code",
   "execution_count": 30,
   "metadata": {},
   "outputs": [
    {
     "name": "stderr",
     "output_type": "stream",
     "text": [
      "changed: 1/20: : 0it [00:00, ?it/s]\n"
     ]
    }
   ],
   "source": [
    "random.seed(12)\n",
    "clusterer = kMeans(k = 2)\n",
    "clusterer.train(inputs)\n",
    "\n",
    "\n",
    "means = sorted(clusterer.means)\n",
    "assert len(means) == 2\n",
    "assert squared_distance(means[0], [-26, -5]) < 1\n",
    "assert squared_distance(means[1], [18, 20]) < 1    "
   ]
  },
  {
   "cell_type": "code",
   "execution_count": 31,
   "metadata": {},
   "outputs": [],
   "source": [
    "from matplotlib import pyplot as plt\n",
    "\n",
    "def squared_clustering_errors(inputs: List[Vector], k: int) -> float:\n",
    "    \"\"\"finds the total squared error from the k-means clustering of inputs\"\"\"\n",
    "    clusterer = kMeans(k)\n",
    "    clusterer.train(inputs)\n",
    "    means = clusterer.means\n",
    "    assignments = [clusterer.classify(input) for input in inputs]\n",
    "    \n",
    "    return sum(squared_distance(input, means[cluster]) \n",
    "               for input, cluster in zip(inputs, assignments))"
   ]
  },
  {
   "cell_type": "code",
   "execution_count": 32,
   "metadata": {},
   "outputs": [
    {
     "name": "stderr",
     "output_type": "stream",
     "text": [
      "0it [00:00, ?it/s]\n",
      "changed: 3/20: : 0it [00:00, ?it/s] \n",
      "changed: 2/20: : 0it [00:00, ?it/s] \n",
      "changed: 3/20: : 0it [00:00, ?it/s] \n",
      "changed: 1/20: : 0it [00:00, ?it/s] \n",
      "changed: 7/20: : 0it [00:00, ?it/s] \n",
      "changed: 1/20: : 0it [00:00, ?it/s] \n",
      "changed: 1/20: : 0it [00:00, ?it/s] \n",
      "changed: 1/20: : 0it [00:00, ?it/s] \n",
      "changed: 7/20: : 0it [00:00, ?it/s] \n",
      "changed: 2/20: : 0it [00:00, ?it/s] \n",
      "changed: 2/20: : 0it [00:00, ?it/s] \n",
      "changed: 4/20: : 0it [00:00, ?it/s] \n",
      "changed: 8/20: : 0it [00:00, ?it/s] \n",
      "changed: 2/20: : 0it [00:00, ?it/s] \n",
      "changed: 1/20: : 0it [00:00, ?it/s] \n",
      "changed: 11/20: : 0it [00:00, ?it/s]\n",
      "changed: 1/20: : 0it [00:00, ?it/s] \n",
      "changed: 1/20: : 0it [00:00, ?it/s] \n",
      "changed: 1/20: : 0it [00:00, ?it/s] \n"
     ]
    }
   ],
   "source": [
    "# now plot from 1 up to len(inputs) clusters\n",
    "\n",
    "ks = range(1, len(inputs) + 1)\n",
    "errors = [squared_clustering_errors(inputs, k) for k in ks]"
   ]
  },
  {
   "cell_type": "code",
   "execution_count": 33,
   "metadata": {},
   "outputs": [
    {
     "data": {
      "image/png": "[encoded data removed]",
      "text/plain": [
       "<Figure size 432x288 with 1 Axes>"
      ]
     },
     "metadata": {
      "needs_background": "light"
     },
     "output_type": "display_data"
    }
   ],
   "source": [
    "plt.plot(ks,errors)\n",
    "plt.xticks(ks)\n",
    "plt.xlabel(\"k\")\n",
    "plt.ylabel(\"total squared error\")\n",
    "plt.title(\"Total Error vs. # of clusters\")\n",
    "plt.show()"
   ]
  },
  {
   "cell_type": "code",
   "execution_count": 34,
   "metadata": {},
   "outputs": [],
   "source": [
    "from typing import NamedTuple, Union, List\n",
    "from vector_operations import Vector\n",
    "class Leaf(NamedTuple):\n",
    "    value: Vector\n",
    "\n",
    "leaf1 = Leaf([10, 20])\n",
    "leaf2 = Leaf([30, -15])\n",
    "\n",
    "class Merged(NamedTuple):\n",
    "    children: tuple\n",
    "    order: int\n",
    "        \n",
    "merged = Merged((leaf1, leaf2), order = 1)\n",
    "\n",
    "Cluster = Union[Leaf, Merged]"
   ]
  },
  {
   "cell_type": "code",
   "execution_count": 35,
   "metadata": {},
   "outputs": [
    {
     "name": "stdout",
     "output_type": "stream",
     "text": [
      "get_values(merged) = [[10, 20], [30, -15]]\n"
     ]
    }
   ],
   "source": [
    "def get_values(cluster: Cluster) -> List[Vector]:\n",
    "    if isinstance(cluster, Leaf):\n",
    "        return [cluster.value]\n",
    "    else:\n",
    "        return [value\n",
    "               for child in cluster.children\n",
    "               for value in get_values(child)]\n",
    "    \n",
    "print(f\"get_values(merged) = {get_values(merged)}\")"
   ]
  },
  {
   "cell_type": "code",
   "execution_count": 36,
   "metadata": {},
   "outputs": [],
   "source": [
    "from typing import Callable\n",
    "from vector_operations import distance\n",
    "\n",
    "def cluster_distance(cluster1: Cluster,\n",
    "                    cluster2: Cluster,\n",
    "                    distance_agg: Callable = min) -> float:\n",
    "    \"\"\"Compute all the pairwise distances between cluster1 and cluster2 and apply the aggregation function\n",
    "    _distance_agg_ to the resulting list\"\"\"\n",
    "    \n",
    "    return distance_agg([distance(v1,v2)]\n",
    "                       for v1 in get_values(cluster1)\n",
    "                       for v2 in get_values(cluster2))"
   ]
  },
  {
   "cell_type": "code",
   "execution_count": 37,
   "metadata": {},
   "outputs": [],
   "source": [
    "def get_merge_order(cluster: Cluster) -> float:\n",
    "    if isinstance(cluster, Leaf):\n",
    "        return float('inf') # was never merged\n",
    "    else:\n",
    "        return cluster.order"
   ]
  },
  {
   "cell_type": "code",
   "execution_count": 38,
   "metadata": {},
   "outputs": [],
   "source": [
    "from typing import Tuple\n",
    "\n",
    "def get_children(cluster: Cluster):\n",
    "    if isinstance(cluster, Leaf):\n",
    "        return TypeError(\"Leaf has no children\")\n",
    "    else:\n",
    "        return cluster.children"
   ]
  },
  {
   "cell_type": "code",
   "execution_count": 48,
   "metadata": {},
   "outputs": [],
   "source": [
    "def bottom_up_cluster(inputs: List[Vector],\n",
    "                     distance_agg: Callable = min) -> Cluster:\n",
    "    # Start with all leaves\n",
    "    clusters: List[Cluster] = [Leaf(input) for input in inputs]\n",
    "        \n",
    "    def pair_distance(pair: Tuple[Cluster, Cluster]) -> float:\n",
    "        return cluster_distance(pair[0], pair[1], distance_agg)\n",
    "    \n",
    "    # as long as we have more than one cluster left...\n",
    "    while len(clusters) > 1:\n",
    "        # find two closest clusters\n",
    "        c1, c2 = min(((cluster1, cluster2)\n",
    "                     for i, cluster1 in enumerate(clusters)\n",
    "                     for cluster2 in clusters[:i]),\n",
    "                     key = pair_distance)\n",
    "        \n",
    "        # remove them from the list of clusters\n",
    "        clusters = [c for c in clusters if c != c1 and c != c2]\n",
    "        \n",
    "        # merge them using merge_order = # of clusters left\n",
    "        \n",
    "        merged_cluster = Merged((c1,c2), order = len(clusters))\n",
    "        \n",
    "        # and add their merge\n",
    "        clusters.append(merged_cluster)\n",
    "        \n",
    "    # when there is only one cluster left, return it\n",
    "    return clusters[0]"
   ]
  },
  {
   "cell_type": "code",
   "execution_count": 49,
   "metadata": {},
   "outputs": [],
   "source": [
    "inputs: List[List[float]] = [[-14,-5],[13,13],[20,23],[-19,-11],[-9,-16],[21,27],[-49,15],[26,13],[-46,5],[-34,-1],[11,15],[-49,0],[-22,-16],[19,28],[-12,-8],[-13,-19],[-41,8],[-11,-6],[-25,-9],[-18,-3]]\n",
    "\n",
    "base_cluster = bottom_up_cluster(inputs)"
   ]
  },
  {
   "cell_type": "code",
   "execution_count": 50,
   "metadata": {},
   "outputs": [],
   "source": [
    "def generate_clusters(base_cluster: Cluster,\n",
    "                     num_clusters: int) -> List[Cluster]:\n",
    "    # start with a list with just the base cluster\n",
    "    clusters = [base_cluster]\n",
    "    \n",
    "    # as long as we don't have enough clusters yet...\n",
    "    while len(clusters) < num_clusters:\n",
    "        # choose the last merged of our clusters\n",
    "        next_cluster = min(clusters, key = get_merge_order)\n",
    "        clusters = [c for c in clusters if c != next_cluster]\n",
    "        \n",
    "        # and add its children to the list (i.e. unmerge it)\n",
    "        clusters.extend(get_children(next_cluster))\n",
    "        \n",
    "    # once we have enough clusters, return those\n",
    "    return clusters"
   ]
  },
  {
   "cell_type": "code",
   "execution_count": 51,
   "metadata": {},
   "outputs": [
    {
     "data": {
      "image/png": "[encoded data removed]",
      "text/plain": [
       "<Figure size 432x288 with 1 Axes>"
      ]
     },
     "metadata": {
      "needs_background": "light"
     },
     "output_type": "display_data"
    }
   ],
   "source": [
    "three_clusters = [get_values(cluster) for cluster in generate_clusters(base_cluster, 3)]\n",
    "from matplotlib import pyplot as plt\n",
    "\n",
    "\n",
    "for i, cluster, marker, color in zip([1,2,3],\n",
    "                                    three_clusters,\n",
    "                                    ['D','o', '*'],\n",
    "                                    ['r','g','b']):\n",
    "    xs, ys = zip(*cluster) # magic unzipping trick\n",
    "    plt.scatter(xs, ys, color = color, marker = marker)\n",
    "    \n",
    "    # put a number at the mean of a cluster\n",
    "    x,y = vector_mean(cluster)\n",
    "    plt.plot(x,y, marker = '$' + str(i) + '$', color = 'black')\n",
    "    \n",
    "plt.title(\"User Locations -- 3 Bottom-up Clusters, Min\")\n",
    "plt.xlabel(\"blocks east of city center\")\n",
    "plt.ylabel(\"blocks north of city center\")\n",
    "plt.show()"
   ]
  }
 ],
 "metadata": {
  "kernelspec": {
   "display_name": "Python 3",
   "language": "python",
   "name": "python3"
  },
  "language_info": {
   "codemirror_mode": {
    "name": "ipython",
    "version": 3
   },
   "file_extension": ".py",
   "mimetype": "text/x-python",
   "name": "python",
   "nbconvert_exporter": "python",
   "pygments_lexer": "ipython3",
   "version": "3.7.3"
  }
 },
 "nbformat": 4,
 "nbformat_minor": 2
}
