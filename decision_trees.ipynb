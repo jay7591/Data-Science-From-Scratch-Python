{
 "cells": [
  {
   "cell_type": "code",
   "execution_count": 2,
   "metadata": {},
   "outputs": [
    {
     "data": {
      "image/png": "[encoded data removed]",
      "text/plain": [
       "<Figure size 432x288 with 1 Axes>"
      ]
     },
     "metadata": {
      "needs_background": "light"
     },
     "output_type": "display_data"
    }
   ],
   "source": [
    "import math\n",
    "x = [i/100.0 for i in range(101) ]\n",
    "entropy_x = [0] + [-p*math.log(p,2) for p in x if p > 0]\n",
    "import matplotlib.pyplot as plt\n",
    "plt.plot(x, entropy_x)\n",
    "plt.xlabel('probability')\n",
    "plt.ylabel('-p*log(p)')\n",
    "plt.show()"
   ]
  },
  {
   "cell_type": "code",
   "execution_count": 3,
   "metadata": {},
   "outputs": [],
   "source": [
    "from typing import List\n",
    "\n",
    "def entropy(class_probabilities: List[float]) -> float:\n",
    "    \"\"\"Given a list of class probabilities, computes entropy.\"\"\"\n",
    "    return sum(-p*math.log(p,2) \n",
    "                for p in class_probabilities \n",
    "                if p > 0) # ignore zero probabilties"
   ]
  },
  {
   "cell_type": "code",
   "execution_count": 4,
   "metadata": {},
   "outputs": [
    {
     "name": "stdout",
     "output_type": "stream",
     "text": [
      "entropy([1.0]) = 0.0\n",
      "entropy([0.5, 0.5]) = 1.0\n",
      "entropy([0.25, 0.75]) = 0.8112781244591328\n"
     ]
    }
   ],
   "source": [
    "print(f\"entropy([1.0]) = {entropy([1.0])}\")\n",
    "print(f\"entropy([0.5, 0.5]) = {entropy([0.5, 0.5])}\")\n",
    "print(f\"entropy([0.25, 0.75]) = {entropy([0.25, 0.75])}\")"
   ]
  },
  {
   "cell_type": "code",
   "execution_count": 5,
   "metadata": {},
   "outputs": [
    {
     "name": "stdout",
     "output_type": "stream",
     "text": [
      "data_entropy(['a']) = 0.0\n",
      "data_entropy([True, False]) = 1.0\n",
      "data_entropy([3,4,4,4]) = 0.8112781244591328\n"
     ]
    }
   ],
   "source": [
    "from typing import Any\n",
    "from collections import Counter\n",
    "\n",
    "def class_probabilities(labels: List[Any]) -> List[float]:\n",
    "    total_count = len(labels)\n",
    "    return [count / total_count for count in Counter(labels).values()]\n",
    "\n",
    "def data_entropy(labels: List[Any]) -> float:\n",
    "    return entropy(class_probabilities(labels))\n",
    "\n",
    "print(f\"data_entropy(['a']) = {data_entropy(['a'])}\")\n",
    "print(f\"data_entropy([True, False]) = {data_entropy([True, False])}\")\n",
    "print(f\"data_entropy([3,4,4,4]) = {data_entropy([3,4,4,4])}\")\n",
    "\n"
   ]
  },
  {
   "cell_type": "code",
   "execution_count": 6,
   "metadata": {},
   "outputs": [],
   "source": [
    "def partition_entropy(subsets: List[List[Any]]) -> float:\n",
    "    \"\"\"Returns the entropy from this partition of data into subsets\"\"\"\n",
    "    total_count = sum(len(subset) for subset in subsets)\n",
    "    return sum(data_entropy(subset) * len(subset) / total_count\n",
    "              for subset in subsets)"
   ]
  },
  {
   "cell_type": "code",
   "execution_count": 17,
   "metadata": {},
   "outputs": [
    {
     "name": "stdout",
     "output_type": "stream",
     "text": [
      "dict_keys(['Senior', 'Mid', 'Junior'])\n",
      "dict_values([[Candidate(level='Senior', lang='Java', tweets=False, phd=False, did_well=False), Candidate(level='Senior', lang='Java', tweets=False, phd=True, did_well=False), Candidate(level='Senior', lang='Python', tweets=False, phd=False, did_well=False), Candidate(level='Senior', lang='R', tweets=True, phd=False, did_well=True), Candidate(level='Senior', lang='Python', tweets=True, phd=True, did_well=True)], [Candidate(level='Mid', lang='Python', tweets=False, phd=False, did_well=True), Candidate(level='Mid', lang='R', tweets=True, phd=True, did_well=True), Candidate(level='Mid', lang='Python', tweets=False, phd=True, did_well=True), Candidate(level='Mid', lang='Java', tweets=True, phd=False, did_well=True)], [Candidate(level='Junior', lang='Python', tweets=False, phd=False, did_well=True), Candidate(level='Junior', lang='R', tweets=True, phd=False, did_well=True), Candidate(level='Junior', lang='R', tweets=True, phd=True, did_well=False), Candidate(level='Junior', lang='Python', tweets=True, phd=False, did_well=True), Candidate(level='Junior', lang='Python', tweets=False, phd=True, did_well=False)]])\n"
     ]
    }
   ],
   "source": [
    "from typing import NamedTuple, Optional\n",
    "\n",
    "class Candidate(NamedTuple):\n",
    "    level: str\n",
    "    lang: str\n",
    "    tweets: bool\n",
    "    phd: bool\n",
    "    did_well: Optional[bool] = None # allow unlabeled data\n",
    "        \n",
    "                  #  level     lang     tweets  phd  did_well\n",
    "inputs = [Candidate('Senior', 'Java',   False, False, False),\n",
    "          Candidate('Senior', 'Java',   False, True,  False),\n",
    "          Candidate('Mid',    'Python', False, False, True),\n",
    "          Candidate('Junior', 'Python', False, False, True),\n",
    "          Candidate('Junior', 'R',      True,  False, True),\n",
    "          Candidate('Junior', 'R',      True,  True,  False),\n",
    "          Candidate('Mid',    'R',      True,  True,  True),\n",
    "          Candidate('Senior', 'Python', False, False, False),\n",
    "          Candidate('Senior', 'R',      True,  False, True),\n",
    "          Candidate('Junior', 'Python', True,  False, True),\n",
    "          Candidate('Senior', 'Python', True,  True,  True),\n",
    "          Candidate('Mid',    'Python', False, True,  True),\n",
    "          Candidate('Mid',    'Java',   True,  False, True),\n",
    "          Candidate('Junior', 'Python', False, True,  False)\n",
    "         ]\n",
    "\n",
    "from typing import Dict, TypeVar\n",
    "from collections import defaultdict\n",
    "\n",
    "T = TypeVar('T') # generic type for inputs\n",
    "\n",
    "def partition_by(inputs: List[T], attribute: str) -> Dict[Any, List[T]]:\n",
    "    \"\"\"Partition the inputs into lists based on the specified attribute\"\"\"\n",
    "    partitions: Dict[Any, List[T]] = defaultdict(list)\n",
    "        \n",
    "    for input in inputs:\n",
    "        key = getattr(input, attribute) # value of the specified attribute\n",
    "        partitions[key].append(input)\n",
    "        \n",
    "    return partitions\n",
    "\n",
    "partition = partition_by(inputs, 'level')\n",
    "print(partition.keys())\n",
    "print(partition.values())"
   ]
  },
  {
   "cell_type": "code",
   "execution_count": null,
   "metadata": {},
   "outputs": [],
   "source": []
  },
  {
   "cell_type": "code",
   "execution_count": null,
   "metadata": {},
   "outputs": [],
   "source": [
    "def partition_entropy_by(inputs: List[Any], \n",
    "                         attribute: str,\n",
    "                         label_attribute: str) -> float:\n",
    "    \"\"\"Compute the entropy according to the given partition.\"\"\"\n",
    "    # partitions consists of our inputs\n",
    "    partitions = partition_by(inputs, attribute)\n",
    "    \n",
    "    # but partition entropy just needs the class labels\n",
    "    labels = [[getattr(input, label_attribute) for input in partition]\n",
    "             for partition in partitions.values()]\n",
    "    \n",
    "    return partition_entropy(labels)"
   ]
  },
  {
   "cell_type": "code",
   "execution_count": 22,
   "metadata": {},
   "outputs": [
    {
     "name": "stdout",
     "output_type": "stream",
     "text": [
      "0.6935361388961919\n",
      "0.8601317128547441\n",
      "0.7884504573082896\n",
      "0.8921589282623617\n"
     ]
    }
   ],
   "source": [
    "print(partition_entropy_by(inputs, 'level', 'did_well'))\n",
    "print(partition_entropy_by(inputs, 'lang', 'did_well'))\n",
    "print(partition_entropy_by(inputs, 'tweets', 'did_well'))\n",
    "print(partition_entropy_by(inputs, 'phd', 'did_well'))"
   ]
  },
  {
   "cell_type": "code",
   "execution_count": 27,
   "metadata": {},
   "outputs": [
    {
     "name": "stdout",
     "output_type": "stream",
     "text": [
      "0.4\n",
      "0.0\n",
      "0.9509775004326938\n"
     ]
    }
   ],
   "source": [
    "senior_inputs = [input for input in inputs if input.level == 'Senior']\n",
    "\n",
    "print(partition_entropy_by(senior_inputs, 'lang', 'did_well'))\n",
    "print(partition_entropy_by(senior_inputs, 'tweets', 'did_well'))\n",
    "print(partition_entropy_by(senior_inputs, 'phd', 'did_well'))"
   ]
  },
  {
   "cell_type": "code",
   "execution_count": 29,
   "metadata": {},
   "outputs": [],
   "source": [
    "from typing import Union\n",
    "\n",
    "class Leaf(NamedTuple):\n",
    "    value: Any\n",
    "        \n",
    "class Split(NamedTuple):\n",
    "    attribute: str\n",
    "    subtrees: dict\n",
    "    default_value: Any = None\n",
    "        \n",
    "DecisionTree = Union[Leaf, Split]\n",
    "\n",
    "def classify(tree: DecisionTree, input: Any) -> Any:\n",
    "    \"\"\"Classify the input using a given decision tree\"\"\"\n",
    "    \n",
    "    # If this is a leaf node, return its value\n",
    "    if isinstance(tree, Leaf):\n",
    "        return tree.value()\n",
    "    \n",
    "    # Otherwise this tree consists of an attribute to split on\n",
    "    # and a dictionary whose keys are values of that attribute\n",
    "    # and whose values are subtrees to consider next\n",
    "    subtree_key = getattr(input, tree.attribute)\n",
    "    \n",
    "    if subtree_key not in tree.subtrees: # If no subtree for key\n",
    "        return tree.default_value\n",
    "    \n",
    "    subtree = tree.subtrees[subtree_key] # Use the appropriate subtree\n",
    "    return classify(subtree, input) # and use it to classify the input"
   ]
  },
  {
   "cell_type": "code",
   "execution_count": 36,
   "metadata": {},
   "outputs": [],
   "source": [
    "def build_tree_id3(inputs: List[Any],\n",
    "                  split_attributes: str,\n",
    "                  target_attribute: str) -> DecisionTree:\n",
    "    \n",
    "    # Count target labels\n",
    "    label_counts = Counter(getattr(input, target_attribute)\n",
    "                          for input in inputs)\n",
    "    \n",
    "    most_common_label = label_counts.most_common(1)[0][0]\n",
    "    \n",
    "    # If there's a unique label predict it\n",
    "    \n",
    "    if len(label_counts) == 1:\n",
    "        return Leaf(most_common_label)\n",
    "    \n",
    "    # If no split attributes left, return the majority label\n",
    "    if not split_attributes:\n",
    "        return Leaf(most_common_label)\n",
    "    \n",
    "    # Otherwise split by the best attribute\n",
    "    \n",
    "    def split_entropy(attribute: str) -> float:\n",
    "        \"\"\"Helper function for finding the best attribute\"\"\"\n",
    "        return partition_entropy_by(inputs, attribute, target_attribute)\n",
    "    \n",
    "    best_attribute = min(split_attributes, key = split_entropy)\n",
    "    \n",
    "    partitions = partition_by(inputs, best_attribute)\n",
    "    new_attributes  = [a for a in split_attributes if a != best_attribute]\n",
    "    \n",
    "    # Recursively build the subtrees\n",
    "    subtrees = {attribute_value : build_tree_id3(subset,\n",
    "                                                new_attributes,\n",
    "                                                target_attribute)\n",
    "               for attribute_value, subset in partition.items()}\n",
    "    return Split(best_attribute, subtrees, default_value = most_common_label)\n",
    "\n"
   ]
  },
  {
   "cell_type": "code",
   "execution_count": 42,
   "metadata": {},
   "outputs": [
    {
     "name": "stdout",
     "output_type": "stream",
     "text": [
      "True\n",
      "True\n",
      "True\n"
     ]
    }
   ],
   "source": [
    "tree = build_tree_id3(inputs, \n",
    "                      ['level','lang','tweets','phd'],\n",
    "                      'did_well')\n",
    "\n",
    "print(classify(tree, Candidate(\"Junior\", \"Java\", True, False)))\n",
    "\n",
    "print(classify(tree, Candidate(\"Junior\", \"Java\", True, True)))\n",
    "\n",
    "print(classify(tree, Candidate(\"Intern\", \"Java\", True, True)))"
   ]
  },
  {
   "cell_type": "code",
   "execution_count": null,
   "metadata": {},
   "outputs": [],
   "source": []
  }
 ],
 "metadata": {
  "kernelspec": {
   "display_name": "Python 3",
   "language": "python",
   "name": "python3"
  },
  "language_info": {
   "codemirror_mode": {
    "name": "ipython",
    "version": 3
   },
   "file_extension": ".py",
   "mimetype": "text/x-python",
   "name": "python",
   "nbconvert_exporter": "python",
   "pygments_lexer": "ipython3",
   "version": "3.7.3"
  }
 },
 "nbformat": 4,
 "nbformat_minor": 2
}
