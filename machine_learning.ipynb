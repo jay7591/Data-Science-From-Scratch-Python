{
 "cells": [
  {
   "cell_type": "code",
   "execution_count": 1,
   "metadata": {},
   "outputs": [
    {
     "name": "stdout",
     "output_type": "stream",
     "text": [
      "750\n",
      "250\n"
     ]
    }
   ],
   "source": [
    "import random\n",
    "from typing import List, TypeVar, Tuple\n",
    "X = TypeVar('X') # generic type to represent a data point\n",
    "\n",
    "def split_data(data: List[X], prob: float) -> Tuple[List[X], List[X]]:\n",
    "    \"\"\"Split data into fractions [prob, 1-prob]\"\"\"\n",
    "    data = data[:] # make a shallow copy of the data\n",
    "    random.shuffle(data)\n",
    "    cut = int(len(data)*prob)\n",
    "    return data[:cut], data[cut:]\n",
    "\n",
    "data = [n for n in range(1000)]\n",
    "train, test = split_data(data, 0.75)\n",
    "\n",
    "print(len(train))\n",
    "print(len(test))"
   ]
  },
  {
   "cell_type": "code",
   "execution_count": 11,
   "metadata": {},
   "outputs": [
    {
     "name": "stdout",
     "output_type": "stream",
     "text": [
      "Number of points in training input = 750\n",
      "Number of points in training output = 750\n",
      "Number of points in testing input = 250\n",
      "Number of points in testing output = 250\n"
     ]
    }
   ],
   "source": [
    "Y = TypeVar('Y') # generic type to represent output variable\n",
    "\n",
    "def train_test_split(xs: List[X], ys: List[Y], test_pct: float) -> Tuple[List[X], List[X], List[Y], List[Y]]:\n",
    "        # Generate indices and split them\n",
    "    idxs = [i for i in range(len(xs))]\n",
    "    train_idxs, test_idxs = split_data(idxs, 1-test_pct)\n",
    "        \n",
    "    return ([xs[i] for i in train_idxs], # x_train\n",
    "                [xs[i] for i in test_idxs], # x_test\n",
    "                [ys[i] for i in train_idxs], # y_train\n",
    "                [ys[i] for i in test_idxs])  # y_test\n",
    "               \n",
    "xs = [x for x in range(1000)]\n",
    "ys = [2*x for x in xs]\n",
    "\n",
    "x_train, x_test, y_train, y_test = train_test_split(xs, ys, 0.25)\n",
    "\n",
    "print(\"Number of points in training input =\",len(x_train))\n",
    "print(\"Number of points in training output =\", len(y_train))\n",
    "print(\"Number of points in testing input =\",len(x_test))\n",
    "print(\"Number of points in testing output =\", len(y_test))"
   ]
  },
  {
   "cell_type": "code",
   "execution_count": 12,
   "metadata": {},
   "outputs": [],
   "source": [
    "## Some metrics to assess the model accuracy\n",
    "def accuracy(tp: int, fp: int, tn: int, fn: int) -> float:\n",
    "    return (tp + tn)/ (tp + tn + fp + fn)\n",
    "\n",
    "def precision(tp: int, fp: int) -> float:\n",
    "    return tp / (tp + fp) \n",
    "\n",
    "def recall(tp: int, fn: int) -> float:\n",
    "    return tp / (tp + fn)\n",
    "\n",
    "def f1_score(p: float, r: float) -> float:\n",
    "    return 2 * p * r / (p + r)"
   ]
  },
  {
   "cell_type": "code",
   "execution_count": null,
   "metadata": {},
   "outputs": [],
   "source": []
  }
 ],
 "metadata": {
  "kernelspec": {
   "display_name": "Python 3",
   "language": "python",
   "name": "python3"
  },
  "language_info": {
   "codemirror_mode": {
    "name": "ipython",
    "version": 3
   },
   "file_extension": ".py",
   "mimetype": "text/x-python",
   "name": "python",
   "nbconvert_exporter": "python",
   "pygments_lexer": "ipython3",
   "version": "3.7.3"
  }
 },
 "nbformat": 4,
 "nbformat_minor": 2
}
