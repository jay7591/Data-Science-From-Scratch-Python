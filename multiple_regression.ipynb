{
 "cells": [
  {
   "cell_type": "code",
   "execution_count": 47,
   "metadata": {},
   "outputs": [
    {
     "data": {
      "text/plain": [
       "256"
      ]
     },
     "execution_count": 47,
     "metadata": {},
     "output_type": "execute_result"
    }
   ],
   "source": [
    "from vector_operations import dot, Vector;\n",
    "\n",
    "def predict(x: Vector, beta: Vector) -> float:\n",
    "    \"\"\"Assumes that the first element of x is 1\"\"\"\n",
    "    return dot(x, beta)\n",
    "\n",
    "predict([1,49,4,0],[3,5,2,4])"
   ]
  },
  {
   "cell_type": "code",
   "execution_count": 48,
   "metadata": {},
   "outputs": [],
   "source": [
    "def error(x: Vector, y: float, beta: Vector) -> float:\n",
    "    return predict(x, beta) -y"
   ]
  },
  {
   "cell_type": "code",
   "execution_count": 49,
   "metadata": {},
   "outputs": [
    {
     "name": "stdout",
     "output_type": "stream",
     "text": [
      "-6\n",
      "36\n"
     ]
    }
   ],
   "source": [
    "def squared_error(x: Vector, y: float, beta: Vector) -> float:\n",
    "    return error(x, y, beta) ** 2\n",
    "\n",
    "x = [1,2,3]\n",
    "y = 30\n",
    "beta = [4,4,4]\n",
    "print(error(x,y,beta))\n",
    "print(squared_error(x,y,beta))"
   ]
  },
  {
   "cell_type": "code",
   "execution_count": 50,
   "metadata": {},
   "outputs": [
    {
     "data": {
      "text/plain": [
       "[-12, -24, -36]"
      ]
     },
     "execution_count": 50,
     "metadata": {},
     "output_type": "execute_result"
    }
   ],
   "source": [
    "def sqerror_gradient(x: Vector, y: float, beta: Vector) -> Vector:\n",
    "    return [2 * error(x,y,beta) * x_i for x_i in x]\n",
    "\n",
    "sqerror_gradient(x,y,beta)"
   ]
  },
  {
   "cell_type": "code",
   "execution_count": 51,
   "metadata": {},
   "outputs": [],
   "source": [
    "from typing import List\n",
    "import random\n",
    "from vector_operations import vector_mean\n",
    "from gradient_descent import gradient_step;\n",
    "import tqdm \n",
    "\n",
    "def least_squares_fit(xs: List[Vector],\n",
    "                     ys: Vector,\n",
    "                     learning_rate: float = 0.001,\n",
    "                     num_steps: int = 1000,\n",
    "                     batch_size: int = 1) -> Vector:\n",
    "    \"\"\"Finds beta that minimizes the sum of squared errors\n",
    "    assuming the model dot(x, beta)\"\"\"\n",
    "    # start with random guess\n",
    "    guess = [random.random() for _ in xs[0]]\n",
    "    \n",
    "    for _ in tqdm.trange(num_steps, desc = \"least squares fit\"):\n",
    "        for start in range(0,len(xs), batch_size):\n",
    "            batch_xs = xs[start:start+batch_size]\n",
    "            batch_ys = ys[start:start+batch_size]\n",
    "            \n",
    "            gradient = vector_mean([sqerror_gradient(x,y,guess)\n",
    "                                  for x,y in zip(batch_xs, batch_ys)])\n",
    "            \n",
    "            guess = gradient_step(guess, gradient, -learning_rate)\n",
    "    return guess"
   ]
  },
  {
   "cell_type": "code",
   "execution_count": 52,
   "metadata": {},
   "outputs": [],
   "source": [
    "num_friends = [100.0,49,41,40,25,21,21,19,19,18,18,16,15,15,15,15,14,14,13,13,13,13,12,12,11,10,10,10,10,10,10,10,10,10,10,10,10,10,10,10,9,9,9,9,9,9,9,9,9,9,9,9,9,9,9,9,9,9,8,8,8,8,8,8,8,8,8,8,8,8,8,7,7,7,7,7,7,7,7,7,7,7,7,7,7,7,6,6,6,6,6,6,6,6,6,6,6,6,6,6,6,6,6,6,6,6,6,6,5,5,5,5,5,5,5,5,5,5,5,5,5,5,5,5,5,4,4,4,4,4,4,4,4,4,4,4,4,4,4,4,4,4,4,4,4,3,3,3,3,3,3,3,3,3,3,3,3,3,3,3,3,3,3,3,3,2,2,2,2,2,2,2,2,2,2,2,2,2,2,2,2,2,1,1,1,1,1,1,1,1,1,1,1,1,1,1,1,1,1,1,1,1,1,1]\n",
    "daily_minutes = [1,68.77,51.25,52.08,38.36,44.54,57.13,51.4,41.42,31.22,34.76,54.01,38.79,47.59,49.1,27.66,41.03,36.73,48.65,28.12,46.62,35.57,32.98,35,26.07,23.77,39.73,40.57,31.65,31.21,36.32,20.45,21.93,26.02,27.34,23.49,46.94,30.5,33.8,24.23,21.4,27.94,32.24,40.57,25.07,19.42,22.39,18.42,46.96,23.72,26.41,26.97,36.76,40.32,35.02,29.47,30.2,31,38.11,38.18,36.31,21.03,30.86,36.07,28.66,29.08,37.28,15.28,24.17,22.31,30.17,25.53,19.85,35.37,44.6,17.23,13.47,26.33,35.02,32.09,24.81,19.33,28.77,24.26,31.98,25.73,24.86,16.28,34.51,15.23,39.72,40.8,26.06,35.76,34.76,16.13,44.04,18.03,19.65,32.62,35.59,39.43,14.18,35.24,40.13,41.82,35.45,36.07,43.67,24.61,20.9,21.9,18.79,27.61,27.21,26.61,29.77,20.59,27.53,13.82,33.2,25,33.1,36.65,18.63,14.87,22.2,36.81,25.53,24.62,26.25,18.21,28.08,19.42,29.79,32.8,35.99,28.32,27.79,35.88,29.06,36.28,14.1,36.63,37.49,26.9,18.58,38.48,24.48,18.95,33.55,14.24,29.04,32.51,25.63,22.22,19,32.73,15.16,13.9,27.2,32.01,29.27,33,13.74,20.42,27.32,18.23,35.35,28.48,9.08,24.62,20.12,35.26,19.92,31.02,16.49,12.16,30.7,31.22,34.65,13.13,27.51,33.2,31.57,14.1,33.42,17.44,10.12,24.42,9.82,23.39,30.93,15.03,21.67,31.09,33.29,22.61,26.89,23.48,8.38,27.81,32.35,23.84]\n",
    "\n",
    "daily_hours = [dm / 60 for dm in daily_minutes]\n",
    "\n",
    "outlier = num_friends.index(100)    # index of outlier\n",
    "num_friends_good = [x\n",
    "                    for i, x in enumerate(num_friends)\n",
    "                    if i != outlier]\n",
    "\n",
    "daily_minutes_good = [x\n",
    "                      for i, x in enumerate(daily_minutes)\n",
    "                      if i != outlier]\n",
    "\n",
    "daily_hours_good = [dm / 60 for dm in daily_minutes_good]"
   ]
  },
  {
   "cell_type": "code",
   "execution_count": 53,
   "metadata": {},
   "outputs": [
    {
     "name": "stderr",
     "output_type": "stream",
     "text": [
      "least squares fit: 100%|██████████| 6000/6000 [00:09<00:00, 628.75it/s]\n"
     ]
    }
   ],
   "source": [
    "random.seed(0)\n",
    "learning_rate =0.001\n",
    "inputs: List[List[float]] = [[1.,49,4,0],[1,41,9,0],[1,40,8,0],[1,25,6,0],[1,21,1,0],[1,21,0,0],[1,19,3,0],[1,19,0,0],[1,18,9,0],[1,18,8,0],[1,16,4,0],[1,15,3,0],[1,15,0,0],[1,15,2,0],[1,15,7,0],[1,14,0,0],[1,14,1,0],[1,13,1,0],[1,13,7,0],[1,13,4,0],[1,13,2,0],[1,12,5,0],[1,12,0,0],[1,11,9,0],[1,10,9,0],[1,10,1,0],[1,10,1,0],[1,10,7,0],[1,10,9,0],[1,10,1,0],[1,10,6,0],[1,10,6,0],[1,10,8,0],[1,10,10,0],[1,10,6,0],[1,10,0,0],[1,10,5,0],[1,10,3,0],[1,10,4,0],[1,9,9,0],[1,9,9,0],[1,9,0,0],[1,9,0,0],[1,9,6,0],[1,9,10,0],[1,9,8,0],[1,9,5,0],[1,9,2,0],[1,9,9,0],[1,9,10,0],[1,9,7,0],[1,9,2,0],[1,9,0,0],[1,9,4,0],[1,9,6,0],[1,9,4,0],[1,9,7,0],[1,8,3,0],[1,8,2,0],[1,8,4,0],[1,8,9,0],[1,8,2,0],[1,8,3,0],[1,8,5,0],[1,8,8,0],[1,8,0,0],[1,8,9,0],[1,8,10,0],[1,8,5,0],[1,8,5,0],[1,7,5,0],[1,7,5,0],[1,7,0,0],[1,7,2,0],[1,7,8,0],[1,7,10,0],[1,7,5,0],[1,7,3,0],[1,7,3,0],[1,7,6,0],[1,7,7,0],[1,7,7,0],[1,7,9,0],[1,7,3,0],[1,7,8,0],[1,6,4,0],[1,6,6,0],[1,6,4,0],[1,6,9,0],[1,6,0,0],[1,6,1,0],[1,6,4,0],[1,6,1,0],[1,6,0,0],[1,6,7,0],[1,6,0,0],[1,6,8,0],[1,6,4,0],[1,6,2,1],[1,6,1,1],[1,6,3,1],[1,6,6,1],[1,6,4,1],[1,6,4,1],[1,6,1,1],[1,6,3,1],[1,6,4,1],[1,5,1,1],[1,5,9,1],[1,5,4,1],[1,5,6,1],[1,5,4,1],[1,5,4,1],[1,5,10,1],[1,5,5,1],[1,5,2,1],[1,5,4,1],[1,5,4,1],[1,5,9,1],[1,5,3,1],[1,5,10,1],[1,5,2,1],[1,5,2,1],[1,5,9,1],[1,4,8,1],[1,4,6,1],[1,4,0,1],[1,4,10,1],[1,4,5,1],[1,4,10,1],[1,4,9,1],[1,4,1,1],[1,4,4,1],[1,4,4,1],[1,4,0,1],[1,4,3,1],[1,4,1,1],[1,4,3,1],[1,4,2,1],[1,4,4,1],[1,4,4,1],[1,4,8,1],[1,4,2,1],[1,4,4,1],[1,3,2,1],[1,3,6,1],[1,3,4,1],[1,3,7,1],[1,3,4,1],[1,3,1,1],[1,3,10,1],[1,3,3,1],[1,3,4,1],[1,3,7,1],[1,3,5,1],[1,3,6,1],[1,3,1,1],[1,3,6,1],[1,3,10,1],[1,3,2,1],[1,3,4,1],[1,3,2,1],[1,3,1,1],[1,3,5,1],[1,2,4,1],[1,2,2,1],[1,2,8,1],[1,2,3,1],[1,2,1,1],[1,2,9,1],[1,2,10,1],[1,2,9,1],[1,2,4,1],[1,2,5,1],[1,2,0,1],[1,2,9,1],[1,2,9,1],[1,2,0,1],[1,2,1,1],[1,2,1,1],[1,2,4,1],[1,1,0,1],[1,1,2,1],[1,1,2,1],[1,1,5,1],[1,1,3,1],[1,1,10,1],[1,1,6,1],[1,1,0,1],[1,1,8,1],[1,1,6,1],[1,1,4,1],[1,1,9,1],[1,1,9,1],[1,1,4,1],[1,1,2,1],[1,1,9,1],[1,1,0,1],[1,1,8,1],[1,1,6,1],[1,1,1,1],[1,1,1,1],[1,1,5,1]]\n",
    "beta = least_squares_fit(inputs,daily_minutes_good, learning_rate, 6000, 25)    "
   ]
  },
  {
   "cell_type": "code",
   "execution_count": 54,
   "metadata": {},
   "outputs": [
    {
     "data": {
      "text/plain": [
       "[30.531023072653063,\n",
       " 0.9739602672230565,\n",
       " -1.8512859399548847,\n",
       " 0.9014383415008939]"
      ]
     },
     "execution_count": 54,
     "metadata": {},
     "output_type": "execute_result"
    }
   ],
   "source": [
    "beta"
   ]
  },
  {
   "cell_type": "code",
   "execution_count": 55,
   "metadata": {},
   "outputs": [
    {
     "name": "stdout",
     "output_type": "stream",
     "text": [
      "0.6799861970969824\n"
     ]
    }
   ],
   "source": [
    "from linear_regression import total_sum_of_squares;\n",
    "def multiple_r_squared(xs: List[Vector], ys: Vector, beta: Vector) -> float:\n",
    "    sum_of_squared_errors = sum(error(x,y,beta) ** 2\n",
    "                               for x,y in zip(xs,ys))\n",
    "    return 1.0 - sum_of_squared_errors/total_sum_of_squares(ys)\n",
    "\n",
    "print(multiple_r_squared(inputs,daily_minutes_good,beta))"
   ]
  },
  {
   "cell_type": "code",
   "execution_count": 56,
   "metadata": {},
   "outputs": [],
   "source": [
    "from typing import TypeVar, List, Callable\n",
    "\n",
    "X = TypeVar('X') # Generic type for data\n",
    "Stat = TypeVar('Stat') # Generic type for statistic\n",
    "\n",
    "def bootstrap_sample(data: List[X]) -> List[X]:\n",
    "    \"\"\"Randomly samples len(data) elements with replacement\"\"\"\n",
    "    return [random.choice(data) for _ in data]\n",
    "\n",
    "def bootstrap_statistic(data: List[X],\n",
    "                       stats_fn: Callable[[List[X]], Stat],\n",
    "                       num_samples: int) -> List[Stat]:\n",
    "    \"\"\"Evaluates stats_fn on num_samples bootstrap samples from data\"\"\"\n",
    "    return [stats_fn(bootstrap_sample(data)) for _ in range(num_samples)]"
   ]
  },
  {
   "cell_type": "code",
   "execution_count": 57,
   "metadata": {},
   "outputs": [
    {
     "name": "stdout",
     "output_type": "stream",
     "text": [
      "std_medians_close = 0.028832812995301355, std_medians_far = 94.4214229181966\n"
     ]
    }
   ],
   "source": [
    "import random\n",
    "# 101 points all very close to 100\n",
    "close_to_100 = [99.5 + random.random() for _ in range(101)]\n",
    "# 101 points, 50 of them near 0 and 50 of them near 100\n",
    "far_from_100 = ([99.5 + random.random()] +\n",
    "                [random.random() for _ in range(50)] +\n",
    "                [200 + random.random() for _ in range(50)])\n",
    "\n",
    "from statistics import median, standard_deviation;\n",
    "\n",
    "medians_close = bootstrap_statistic(close_to_100, median, 100)\n",
    "medians_far = bootstrap_statistic(far_from_100, median, 100)\n",
    "std_close = standard_deviation(medians_close)\n",
    "std_far = standard_deviation(medians_far)\n",
    "\n",
    "print(f\"std_medians_close = {std_close}, std_medians_far = {std_far}\")"
   ]
  },
  {
   "cell_type": "code",
   "execution_count": 67,
   "metadata": {},
   "outputs": [
    {
     "name": "stderr",
     "output_type": "stream",
     "text": [
      "least squares fit: 100%|██████████| 5000/5000 [00:09<00:00, 545.84it/s]\n",
      "least squares fit:   1%|          | 46/5000 [00:00<00:10, 455.17it/s]"
     ]
    },
    {
     "name": "stdout",
     "output_type": "stream",
     "text": [
      "Bootstrap sample [30.426201770560052, 0.9944104503380031, -1.808319352639293, 0.9154711968302534]\n"
     ]
    },
    {
     "name": "stderr",
     "output_type": "stream",
     "text": [
      "least squares fit: 100%|██████████| 5000/5000 [00:08<00:00, 611.03it/s]\n",
      "least squares fit:   1%|          | 57/5000 [00:00<00:08, 569.84it/s]"
     ]
    },
    {
     "name": "stdout",
     "output_type": "stream",
     "text": [
      "Bootstrap sample [32.097896002408724, 0.8653011770527311, -1.9242024858327365, 0.9644931485197187]\n"
     ]
    },
    {
     "name": "stderr",
     "output_type": "stream",
     "text": [
      "least squares fit: 100%|██████████| 5000/5000 [00:09<00:00, 554.48it/s]\n",
      "least squares fit:   2%|▏         | 113/5000 [00:00<00:08, 545.60it/s]"
     ]
    },
    {
     "name": "stdout",
     "output_type": "stream",
     "text": [
      "Bootstrap sample [31.47981808465359, 0.876590562906873, -1.582161062871147, -1.399969073897017]\n"
     ]
    },
    {
     "name": "stderr",
     "output_type": "stream",
     "text": [
      "least squares fit: 100%|██████████| 5000/5000 [00:08<00:00, 569.33it/s]\n",
      "least squares fit:   1%|          | 42/5000 [00:00<00:11, 417.75it/s]"
     ]
    },
    {
     "name": "stdout",
     "output_type": "stream",
     "text": [
      "Bootstrap sample [30.330070135601865, 0.8969258173618424, -1.8957641943397918, 0.1387048092589358]\n"
     ]
    },
    {
     "name": "stderr",
     "output_type": "stream",
     "text": [
      "least squares fit: 100%|██████████| 5000/5000 [00:10<00:00, 472.05it/s]\n",
      "least squares fit:   1%|          | 53/5000 [00:00<00:09, 528.14it/s]"
     ]
    },
    {
     "name": "stdout",
     "output_type": "stream",
     "text": [
      "Bootstrap sample [33.13734607009865, 0.5704189758676139, -1.8666914897172198, -1.2244759689831048]\n"
     ]
    },
    {
     "name": "stderr",
     "output_type": "stream",
     "text": [
      "least squares fit: 100%|██████████| 5000/5000 [00:08<00:00, 577.71it/s]\n",
      "least squares fit:   1%|          | 49/5000 [00:00<00:10, 480.91it/s]"
     ]
    },
    {
     "name": "stdout",
     "output_type": "stream",
     "text": [
      "Bootstrap sample [30.96146897807406, 0.9812865920102449, -1.790149162680716, 0.6803613951829707]\n"
     ]
    },
    {
     "name": "stderr",
     "output_type": "stream",
     "text": [
      "least squares fit: 100%|██████████| 5000/5000 [00:10<00:00, 493.29it/s]\n",
      "least squares fit:   1%|          | 55/5000 [00:00<00:09, 549.08it/s]"
     ]
    },
    {
     "name": "stdout",
     "output_type": "stream",
     "text": [
      "Bootstrap sample [30.610795533011046, 0.9409758521642867, -1.7539889502577197, 1.3910674714682965]\n"
     ]
    },
    {
     "name": "stderr",
     "output_type": "stream",
     "text": [
      "least squares fit: 100%|██████████| 5000/5000 [00:08<00:00, 568.22it/s]\n",
      "least squares fit:   1%|          | 61/5000 [00:00<00:08, 572.62it/s]"
     ]
    },
    {
     "name": "stdout",
     "output_type": "stream",
     "text": [
      "Bootstrap sample [32.0274403814451, 1.09233550131529, -2.219351542478757, 0.5963364350628301]\n"
     ]
    },
    {
     "name": "stderr",
     "output_type": "stream",
     "text": [
      "least squares fit: 100%|██████████| 5000/5000 [00:09<00:00, 523.61it/s]\n",
      "least squares fit:   1%|▏         | 65/5000 [00:00<00:07, 649.76it/s]"
     ]
    },
    {
     "name": "stdout",
     "output_type": "stream",
     "text": [
      "Bootstrap sample [29.79229577974039, 0.9759054835118236, -1.7512595369310022, 0.752657734309291]\n"
     ]
    },
    {
     "name": "stderr",
     "output_type": "stream",
     "text": [
      "least squares fit: 100%|██████████| 5000/5000 [00:08<00:00, 559.38it/s]\n",
      "least squares fit:   1%|          | 53/5000 [00:00<00:09, 526.90it/s]"
     ]
    },
    {
     "name": "stdout",
     "output_type": "stream",
     "text": [
      "Bootstrap sample [31.479800712937745, 0.8764938850314724, -1.9145817493920152, 0.9239391457719879]\n"
     ]
    },
    {
     "name": "stderr",
     "output_type": "stream",
     "text": [
      "least squares fit: 100%|██████████| 5000/5000 [00:09<00:00, 551.00it/s]\n",
      "least squares fit:   1%|          | 56/5000 [00:00<00:09, 544.59it/s]"
     ]
    },
    {
     "name": "stdout",
     "output_type": "stream",
     "text": [
      "Bootstrap sample [29.638800505236027, 1.0376389521130827, -1.6020402516852825, -0.3248803482912503]\n"
     ]
    },
    {
     "name": "stderr",
     "output_type": "stream",
     "text": [
      "least squares fit: 100%|██████████| 5000/5000 [00:08<00:00, 564.45it/s]\n",
      "least squares fit:   1%|          | 59/5000 [00:00<00:08, 581.00it/s]"
     ]
    },
    {
     "name": "stdout",
     "output_type": "stream",
     "text": [
      "Bootstrap sample [30.711249093184577, 0.9687015030423536, -1.8913592202443732, 0.7293335994241766]\n"
     ]
    },
    {
     "name": "stderr",
     "output_type": "stream",
     "text": [
      "least squares fit: 100%|██████████| 5000/5000 [00:08<00:00, 571.21it/s]\n",
      "least squares fit:   1%|          | 60/5000 [00:00<00:08, 597.92it/s]"
     ]
    },
    {
     "name": "stdout",
     "output_type": "stream",
     "text": [
      "Bootstrap sample [26.34518531924521, 1.3930218596973198, -1.732757240116549, 3.247826575570202]\n"
     ]
    },
    {
     "name": "stderr",
     "output_type": "stream",
     "text": [
      "least squares fit: 100%|██████████| 5000/5000 [00:09<00:00, 534.38it/s]\n",
      "least squares fit:   1%|          | 59/5000 [00:00<00:08, 588.80it/s]"
     ]
    },
    {
     "name": "stdout",
     "output_type": "stream",
     "text": [
      "Bootstrap sample [30.652852762979542, 0.968601462014444, -1.7558684101099298, 1.2904139998606003]\n"
     ]
    },
    {
     "name": "stderr",
     "output_type": "stream",
     "text": [
      "least squares fit: 100%|██████████| 5000/5000 [00:08<00:00, 613.56it/s]\n",
      "least squares fit:   2%|▏         | 120/5000 [00:00<00:08, 594.61it/s]"
     ]
    },
    {
     "name": "stdout",
     "output_type": "stream",
     "text": [
      "Bootstrap sample [29.315214909363277, 1.094855236420339, -1.9015417795620138, 1.0367962404349682]\n"
     ]
    },
    {
     "name": "stderr",
     "output_type": "stream",
     "text": [
      "least squares fit: 100%|██████████| 5000/5000 [00:08<00:00, 622.40it/s]\n",
      "least squares fit:   1%|▏         | 63/5000 [00:00<00:07, 624.73it/s]"
     ]
    },
    {
     "name": "stdout",
     "output_type": "stream",
     "text": [
      "Bootstrap sample [29.173490962497027, 0.926730057851291, -1.5252247755435142, 1.3148766662435]\n"
     ]
    },
    {
     "name": "stderr",
     "output_type": "stream",
     "text": [
      "least squares fit: 100%|██████████| 5000/5000 [00:07<00:00, 639.76it/s]\n",
      "least squares fit:   1%|▏         | 63/5000 [00:00<00:07, 621.15it/s]"
     ]
    },
    {
     "name": "stdout",
     "output_type": "stream",
     "text": [
      "Bootstrap sample [30.100070752067253, 0.9822798769760199, -1.893341861446209, 1.4248977007918724]\n"
     ]
    },
    {
     "name": "stderr",
     "output_type": "stream",
     "text": [
      "least squares fit: 100%|██████████| 5000/5000 [00:07<00:00, 626.97it/s]\n",
      "least squares fit:   3%|▎         | 129/5000 [00:00<00:07, 639.88it/s]"
     ]
    },
    {
     "name": "stdout",
     "output_type": "stream",
     "text": [
      "Bootstrap sample [31.245073345991496, 1.002678864947543, -1.8424132348447326, 0.4354965267040906]\n"
     ]
    },
    {
     "name": "stderr",
     "output_type": "stream",
     "text": [
      "least squares fit: 100%|██████████| 5000/5000 [00:08<00:00, 620.81it/s]\n",
      "least squares fit:   2%|▏         | 124/5000 [00:00<00:08, 603.57it/s]"
     ]
    },
    {
     "name": "stdout",
     "output_type": "stream",
     "text": [
      "Bootstrap sample [31.499443747059818, 0.9972827324777328, -1.8828498766159858, 0.03129613071250372]\n"
     ]
    },
    {
     "name": "stderr",
     "output_type": "stream",
     "text": [
      "least squares fit: 100%|██████████| 5000/5000 [00:08<00:00, 599.42it/s]\n",
      "least squares fit:   2%|▏         | 114/5000 [00:00<00:08, 578.59it/s]"
     ]
    },
    {
     "name": "stdout",
     "output_type": "stream",
     "text": [
      "Bootstrap sample [28.346056527279536, 1.0460035403657852, -1.9190265399186788, 2.840426406451368]\n"
     ]
    },
    {
     "name": "stderr",
     "output_type": "stream",
     "text": [
      "least squares fit: 100%|██████████| 5000/5000 [00:07<00:00, 626.28it/s]\n",
      "least squares fit:   1%|          | 59/5000 [00:00<00:08, 585.84it/s]"
     ]
    },
    {
     "name": "stdout",
     "output_type": "stream",
     "text": [
      "Bootstrap sample [30.19543522914909, 1.0949886521622987, -1.964759285928046, 1.638917094681734]\n"
     ]
    },
    {
     "name": "stderr",
     "output_type": "stream",
     "text": [
      "least squares fit: 100%|██████████| 5000/5000 [00:08<00:00, 624.11it/s]\n",
      "least squares fit:   1%|▏         | 64/5000 [00:00<00:07, 637.15it/s]"
     ]
    },
    {
     "name": "stdout",
     "output_type": "stream",
     "text": [
      "Bootstrap sample [31.705478091657326, 0.8904612414699078, -2.055547029578919, -1.5864266912461766]\n"
     ]
    },
    {
     "name": "stderr",
     "output_type": "stream",
     "text": [
      "least squares fit: 100%|██████████| 5000/5000 [00:08<00:00, 583.49it/s]\n",
      "least squares fit:   1%|          | 60/5000 [00:00<00:08, 591.96it/s]"
     ]
    },
    {
     "name": "stdout",
     "output_type": "stream",
     "text": [
      "Bootstrap sample [30.108327503685707, 0.9405105375188128, -1.6237760662124439, 1.076112137688663]\n"
     ]
    },
    {
     "name": "stderr",
     "output_type": "stream",
     "text": [
      "least squares fit: 100%|██████████| 5000/5000 [00:10<00:00, 471.59it/s]\n",
      "least squares fit:   1%|          | 49/5000 [00:00<00:10, 487.11it/s]"
     ]
    },
    {
     "name": "stdout",
     "output_type": "stream",
     "text": [
      "Bootstrap sample [28.056109150706174, 1.2311109131447109, -1.8373986514311418, 2.2942644556081264]\n"
     ]
    },
    {
     "name": "stderr",
     "output_type": "stream",
     "text": [
      "least squares fit: 100%|██████████| 5000/5000 [00:08<00:00, 596.56it/s]\n",
      "least squares fit:   1%|          | 61/5000 [00:00<00:08, 601.73it/s]"
     ]
    },
    {
     "name": "stdout",
     "output_type": "stream",
     "text": [
      "Bootstrap sample [29.650624257742344, 1.1158897172654103, -1.9999098427240245, 1.7006737842249267]\n"
     ]
    },
    {
     "name": "stderr",
     "output_type": "stream",
     "text": [
      "least squares fit: 100%|██████████| 5000/5000 [00:08<00:00, 601.51it/s]\n",
      "least squares fit:   2%|▏         | 122/5000 [00:00<00:08, 608.40it/s]"
     ]
    },
    {
     "name": "stdout",
     "output_type": "stream",
     "text": [
      "Bootstrap sample [29.468444369650893, 0.9647194680502822, -1.9903724981338398, 1.696572815476783]\n"
     ]
    },
    {
     "name": "stderr",
     "output_type": "stream",
     "text": [
      "least squares fit: 100%|██████████| 5000/5000 [00:09<00:00, 527.27it/s]\n",
      "least squares fit:   1%|          | 61/5000 [00:00<00:08, 596.71it/s]"
     ]
    },
    {
     "name": "stdout",
     "output_type": "stream",
     "text": [
      "Bootstrap sample [28.463828990006355, 1.1009253001101964, -1.9565247021636951, 2.515670442984554]\n"
     ]
    },
    {
     "name": "stderr",
     "output_type": "stream",
     "text": [
      "least squares fit: 100%|██████████| 5000/5000 [00:08<00:00, 580.07it/s]\n",
      "least squares fit:   1%|          | 54/5000 [00:00<00:09, 533.62it/s]"
     ]
    },
    {
     "name": "stdout",
     "output_type": "stream",
     "text": [
      "Bootstrap sample [29.99035921989719, 1.0555161393959356, -1.8903716345122894, 1.7949763291324938]\n"
     ]
    },
    {
     "name": "stderr",
     "output_type": "stream",
     "text": [
      "least squares fit: 100%|██████████| 5000/5000 [00:10<00:00, 468.79it/s]\n",
      "least squares fit:   1%|          | 30/5000 [00:00<00:16, 297.66it/s]"
     ]
    },
    {
     "name": "stdout",
     "output_type": "stream",
     "text": [
      "Bootstrap sample [31.87833943747188, 0.9188972562357379, -1.8566797539856263, 0.27618700979141464]\n"
     ]
    },
    {
     "name": "stderr",
     "output_type": "stream",
     "text": [
      "least squares fit: 100%|██████████| 5000/5000 [00:09<00:00, 509.32it/s]\n",
      "least squares fit:   1%|          | 40/5000 [00:00<00:12, 395.10it/s]"
     ]
    },
    {
     "name": "stdout",
     "output_type": "stream",
     "text": [
      "Bootstrap sample [28.014307824984645, 1.2104869159752794, -1.805855189090392, 2.4502602177128994]\n"
     ]
    },
    {
     "name": "stderr",
     "output_type": "stream",
     "text": [
      "least squares fit: 100%|██████████| 5000/5000 [00:14<00:00, 343.60it/s]\n",
      "least squares fit:   1%|          | 55/5000 [00:00<00:10, 456.40it/s]"
     ]
    },
    {
     "name": "stdout",
     "output_type": "stream",
     "text": [
      "Bootstrap sample [28.803220261830777, 1.098711926044662, -1.7933295623589034, 1.6274883510728986]\n"
     ]
    },
    {
     "name": "stderr",
     "output_type": "stream",
     "text": [
      "least squares fit: 100%|██████████| 5000/5000 [00:10<00:00, 497.10it/s]\n",
      "least squares fit:   1%|          | 54/5000 [00:00<00:09, 525.90it/s]"
     ]
    },
    {
     "name": "stdout",
     "output_type": "stream",
     "text": [
      "Bootstrap sample [33.762437511528866, 0.9921595941686483, -2.2896204176819435, -0.23319176802476843]\n"
     ]
    },
    {
     "name": "stderr",
     "output_type": "stream",
     "text": [
      "least squares fit: 100%|██████████| 5000/5000 [00:08<00:00, 566.37it/s]\n",
      "least squares fit:   2%|▏         | 115/5000 [00:00<00:08, 561.32it/s]"
     ]
    },
    {
     "name": "stdout",
     "output_type": "stream",
     "text": [
      "Bootstrap sample [29.3414950515544, 0.9659241702239766, -1.5725536714138935, 0.19427331431662562]\n"
     ]
    },
    {
     "name": "stderr",
     "output_type": "stream",
     "text": [
      "least squares fit: 100%|██████████| 5000/5000 [00:08<00:00, 594.04it/s]\n",
      "least squares fit:   1%|          | 58/5000 [00:00<00:08, 579.02it/s]"
     ]
    },
    {
     "name": "stdout",
     "output_type": "stream",
     "text": [
      "Bootstrap sample [31.650429693241772, 0.9107976437992118, -1.9429040373624562, 0.8303133560649466]\n"
     ]
    },
    {
     "name": "stderr",
     "output_type": "stream",
     "text": [
      "least squares fit: 100%|██████████| 5000/5000 [00:11<00:00, 430.09it/s]\n",
      "least squares fit:   1%|          | 58/5000 [00:00<00:08, 575.28it/s]"
     ]
    },
    {
     "name": "stdout",
     "output_type": "stream",
     "text": [
      "Bootstrap sample [31.81122345829654, 0.958111396550955, -2.0239064881483215, -0.28419966049022183]\n"
     ]
    },
    {
     "name": "stderr",
     "output_type": "stream",
     "text": [
      "least squares fit: 100%|██████████| 5000/5000 [00:08<00:00, 603.55it/s]\n",
      "least squares fit:   2%|▏         | 121/5000 [00:00<00:08, 605.21it/s]"
     ]
    },
    {
     "name": "stdout",
     "output_type": "stream",
     "text": [
      "Bootstrap sample [30.04012862954158, 0.939359166033097, -1.7289911485037586, 1.0015376292518714]\n"
     ]
    },
    {
     "name": "stderr",
     "output_type": "stream",
     "text": [
      "least squares fit: 100%|██████████| 5000/5000 [00:08<00:00, 600.29it/s]\n",
      "least squares fit:   2%|▏         | 124/5000 [00:00<00:07, 612.50it/s]"
     ]
    },
    {
     "name": "stdout",
     "output_type": "stream",
     "text": [
      "Bootstrap sample [28.655037006236554, 1.0816347820822663, -1.7297191468757902, 2.4272066103487506]\n"
     ]
    },
    {
     "name": "stderr",
     "output_type": "stream",
     "text": [
      "least squares fit: 100%|██████████| 5000/5000 [00:09<00:00, 513.15it/s]\n",
      "least squares fit:   1%|          | 59/5000 [00:00<00:08, 579.14it/s]"
     ]
    },
    {
     "name": "stdout",
     "output_type": "stream",
     "text": [
      "Bootstrap sample [27.75241279831124, 1.1419191642078221, -1.5911941892322174, 3.1467998717149266]\n"
     ]
    },
    {
     "name": "stderr",
     "output_type": "stream",
     "text": [
      "least squares fit: 100%|██████████| 5000/5000 [00:09<00:00, 534.55it/s]\n",
      "least squares fit:   1%|          | 60/5000 [00:00<00:08, 593.88it/s]"
     ]
    },
    {
     "name": "stdout",
     "output_type": "stream",
     "text": [
      "Bootstrap sample [32.29428673293718, 0.8930500719214458, -1.8492017808493806, 0.28372297104350425]\n"
     ]
    },
    {
     "name": "stderr",
     "output_type": "stream",
     "text": [
      "least squares fit: 100%|██████████| 5000/5000 [00:09<00:00, 527.49it/s]\n",
      "least squares fit:   1%|          | 58/5000 [00:00<00:08, 576.79it/s]"
     ]
    },
    {
     "name": "stdout",
     "output_type": "stream",
     "text": [
      "Bootstrap sample [31.869469134236333, 0.9247781144462004, -1.8821731276895595, -0.33331857677568516]\n"
     ]
    },
    {
     "name": "stderr",
     "output_type": "stream",
     "text": [
      "least squares fit: 100%|██████████| 5000/5000 [00:08<00:00, 561.60it/s]\n",
      "least squares fit:   1%|          | 55/5000 [00:00<00:09, 539.14it/s]"
     ]
    },
    {
     "name": "stdout",
     "output_type": "stream",
     "text": [
      "Bootstrap sample [30.034021370954267, 0.9015429976934514, -1.6679455183135792, 0.39351332495252495]\n"
     ]
    },
    {
     "name": "stderr",
     "output_type": "stream",
     "text": [
      "least squares fit: 100%|██████████| 5000/5000 [00:08<00:00, 565.23it/s]\n",
      "least squares fit:   1%|          | 52/5000 [00:00<00:09, 518.92it/s]"
     ]
    },
    {
     "name": "stdout",
     "output_type": "stream",
     "text": [
      "Bootstrap sample [29.272955523412588, 1.029914283905057, -1.6459832497968616, 2.3179007067005455]\n"
     ]
    },
    {
     "name": "stderr",
     "output_type": "stream",
     "text": [
      "least squares fit: 100%|██████████| 5000/5000 [00:08<00:00, 561.72it/s]\n",
      "least squares fit:   1%|▏         | 63/5000 [00:00<00:07, 623.65it/s]"
     ]
    },
    {
     "name": "stdout",
     "output_type": "stream",
     "text": [
      "Bootstrap sample [30.684132552952367, 0.8805413025578143, -1.906499467509151, 1.7067245665664827]\n"
     ]
    },
    {
     "name": "stderr",
     "output_type": "stream",
     "text": [
      "least squares fit: 100%|██████████| 5000/5000 [00:09<00:00, 555.04it/s]\n",
      "least squares fit:   1%|          | 62/5000 [00:00<00:07, 618.03it/s]"
     ]
    },
    {
     "name": "stdout",
     "output_type": "stream",
     "text": [
      "Bootstrap sample [30.596914796988543, 1.0121370355189319, -1.8317602321672624, -0.07716900345064139]\n"
     ]
    },
    {
     "name": "stderr",
     "output_type": "stream",
     "text": [
      "least squares fit: 100%|██████████| 5000/5000 [00:09<00:00, 543.32it/s]\n",
      "least squares fit:   1%|          | 51/5000 [00:00<00:09, 502.45it/s]"
     ]
    },
    {
     "name": "stdout",
     "output_type": "stream",
     "text": [
      "Bootstrap sample [30.043410990615616, 0.9897138025701593, -1.716746117126982, 1.4146307680805945]\n"
     ]
    },
    {
     "name": "stderr",
     "output_type": "stream",
     "text": [
      "least squares fit: 100%|██████████| 5000/5000 [00:08<00:00, 572.31it/s]\n",
      "least squares fit:   1%|          | 60/5000 [00:00<00:08, 595.90it/s]"
     ]
    },
    {
     "name": "stdout",
     "output_type": "stream",
     "text": [
      "Bootstrap sample [30.517739441143267, 0.9683748789157374, -1.7879435729884081, 0.3610348249779899]\n"
     ]
    },
    {
     "name": "stderr",
     "output_type": "stream",
     "text": [
      "least squares fit: 100%|██████████| 5000/5000 [00:08<00:00, 597.94it/s]\n",
      "least squares fit:   2%|▏         | 119/5000 [00:00<00:08, 586.02it/s]"
     ]
    },
    {
     "name": "stdout",
     "output_type": "stream",
     "text": [
      "Bootstrap sample [31.845756317996155, 0.9363676055033652, -2.077436812959496, -0.2580155762750475]\n"
     ]
    },
    {
     "name": "stderr",
     "output_type": "stream",
     "text": [
      "least squares fit: 100%|██████████| 5000/5000 [00:08<00:00, 610.60it/s]\n",
      "least squares fit:   1%|          | 61/5000 [00:00<00:08, 609.63it/s]"
     ]
    },
    {
     "name": "stdout",
     "output_type": "stream",
     "text": [
      "Bootstrap sample [31.08437426842046, 0.9605072004559669, -1.7881738158310714, 0.7687275641464213]\n"
     ]
    },
    {
     "name": "stderr",
     "output_type": "stream",
     "text": [
      "least squares fit: 100%|██████████| 5000/5000 [00:08<00:00, 610.24it/s]\n",
      "least squares fit:   1%|          | 59/5000 [00:00<00:08, 587.37it/s]"
     ]
    },
    {
     "name": "stdout",
     "output_type": "stream",
     "text": [
      "Bootstrap sample [28.25037661795676, 1.308790341619784, -1.982814502637981, 3.0045960132156075]\n"
     ]
    },
    {
     "name": "stderr",
     "output_type": "stream",
     "text": [
      "least squares fit: 100%|██████████| 5000/5000 [00:08<00:00, 564.82it/s]\n",
      "least squares fit:   1%|          | 62/5000 [00:00<00:08, 608.48it/s]"
     ]
    },
    {
     "name": "stdout",
     "output_type": "stream",
     "text": [
      "Bootstrap sample [31.67290638707006, 0.9577836094871337, -2.0693728882510554, 0.3532775791501565]\n"
     ]
    },
    {
     "name": "stderr",
     "output_type": "stream",
     "text": [
      "least squares fit: 100%|██████████| 5000/5000 [00:10<00:00, 486.89it/s]\n",
      "least squares fit:   1%|          | 59/5000 [00:00<00:08, 585.25it/s]"
     ]
    },
    {
     "name": "stdout",
     "output_type": "stream",
     "text": [
      "Bootstrap sample [30.452001091443083, 0.9803012426902983, -1.8870403792608397, 0.15659588880563025]\n"
     ]
    },
    {
     "name": "stderr",
     "output_type": "stream",
     "text": [
      "least squares fit: 100%|██████████| 5000/5000 [00:08<00:00, 558.57it/s]\n",
      "least squares fit:   0%|          | 23/5000 [00:00<00:22, 225.67it/s]"
     ]
    },
    {
     "name": "stdout",
     "output_type": "stream",
     "text": [
      "Bootstrap sample [27.913622753712367, 1.131162477714164, -1.7011785159618384, 1.6551546629708362]\n"
     ]
    },
    {
     "name": "stderr",
     "output_type": "stream",
     "text": [
      "least squares fit: 100%|██████████| 5000/5000 [00:09<00:00, 529.60it/s]\n",
      "least squares fit:   1%|          | 57/5000 [00:00<00:08, 568.14it/s]"
     ]
    },
    {
     "name": "stdout",
     "output_type": "stream",
     "text": [
      "Bootstrap sample [30.965982279401054, 0.8459498803287508, -1.7799930870197338, -0.7508176174378727]\n"
     ]
    },
    {
     "name": "stderr",
     "output_type": "stream",
     "text": [
      "least squares fit: 100%|██████████| 5000/5000 [00:08<00:00, 571.94it/s]\n",
      "least squares fit:   1%|          | 62/5000 [00:00<00:08, 612.88it/s]"
     ]
    },
    {
     "name": "stdout",
     "output_type": "stream",
     "text": [
      "Bootstrap sample [30.60666379046394, 0.9221909863502384, -1.7488347419600276, 1.2974152026725365]\n"
     ]
    },
    {
     "name": "stderr",
     "output_type": "stream",
     "text": [
      "least squares fit: 100%|██████████| 5000/5000 [00:09<00:00, 550.39it/s]\n",
      "least squares fit:   1%|          | 43/5000 [00:00<00:11, 425.39it/s]"
     ]
    },
    {
     "name": "stdout",
     "output_type": "stream",
     "text": [
      "Bootstrap sample [31.372166228019363, 0.8946835522277817, -1.752191473710112, -0.10761291174550855]\n"
     ]
    },
    {
     "name": "stderr",
     "output_type": "stream",
     "text": [
      "least squares fit: 100%|██████████| 5000/5000 [00:10<00:00, 492.96it/s]\n",
      "least squares fit:   1%|          | 59/5000 [00:00<00:08, 583.28it/s]"
     ]
    },
    {
     "name": "stdout",
     "output_type": "stream",
     "text": [
      "Bootstrap sample [29.22450573978847, 1.0077852629739852, -1.6642106686412477, 1.8551400739250345]\n"
     ]
    },
    {
     "name": "stderr",
     "output_type": "stream",
     "text": [
      "least squares fit: 100%|██████████| 5000/5000 [00:08<00:00, 584.11it/s]\n",
      "least squares fit:   1%|          | 58/5000 [00:00<00:08, 578.72it/s]"
     ]
    },
    {
     "name": "stdout",
     "output_type": "stream",
     "text": [
      "Bootstrap sample [32.1597643309849, 0.8741282123404251, -1.8390010126016418, -0.6506412134159189]\n"
     ]
    },
    {
     "name": "stderr",
     "output_type": "stream",
     "text": [
      "least squares fit: 100%|██████████| 5000/5000 [00:08<00:00, 590.32it/s]\n",
      "least squares fit:   2%|▏         | 112/5000 [00:00<00:08, 549.69it/s]"
     ]
    },
    {
     "name": "stdout",
     "output_type": "stream",
     "text": [
      "Bootstrap sample [25.964846086299787, 1.4592381292480499, -2.0588346186543145, 4.0833405140952435]\n"
     ]
    },
    {
     "name": "stderr",
     "output_type": "stream",
     "text": [
      "least squares fit: 100%|██████████| 5000/5000 [00:08<00:00, 592.10it/s]\n",
      "least squares fit:   1%|          | 60/5000 [00:00<00:08, 595.71it/s]"
     ]
    },
    {
     "name": "stdout",
     "output_type": "stream",
     "text": [
      "Bootstrap sample [29.637416530524423, 0.9670223385520211, -1.6858438838795595, 1.1090434067773605]\n"
     ]
    },
    {
     "name": "stderr",
     "output_type": "stream",
     "text": [
      "least squares fit: 100%|██████████| 5000/5000 [00:08<00:00, 600.27it/s]\n",
      "least squares fit:   1%|          | 62/5000 [00:00<00:07, 618.57it/s]"
     ]
    },
    {
     "name": "stdout",
     "output_type": "stream",
     "text": [
      "Bootstrap sample [30.75767756411562, 0.9779690153895195, -1.7826996945625675, 0.3713809784095148]\n"
     ]
    },
    {
     "name": "stderr",
     "output_type": "stream",
     "text": [
      "least squares fit: 100%|██████████| 5000/5000 [00:08<00:00, 561.52it/s]\n",
      "least squares fit:   1%|          | 49/5000 [00:00<00:10, 482.92it/s]"
     ]
    },
    {
     "name": "stdout",
     "output_type": "stream",
     "text": [
      "Bootstrap sample [31.33117526317834, 0.8144874310881592, -1.905653100069943, 1.385623719620082]\n"
     ]
    },
    {
     "name": "stderr",
     "output_type": "stream",
     "text": [
      "least squares fit: 100%|██████████| 5000/5000 [00:12<00:00, 393.61it/s]\n",
      "least squares fit:   1%|          | 48/5000 [00:00<00:10, 473.58it/s]"
     ]
    },
    {
     "name": "stdout",
     "output_type": "stream",
     "text": [
      "Bootstrap sample [29.76136821546177, 0.9962889661726944, -1.9858286223324026, 1.832175501368159]\n"
     ]
    },
    {
     "name": "stderr",
     "output_type": "stream",
     "text": [
      "least squares fit: 100%|██████████| 5000/5000 [00:09<00:00, 501.93it/s]\n",
      "least squares fit:   1%|          | 57/5000 [00:00<00:08, 569.63it/s]"
     ]
    },
    {
     "name": "stdout",
     "output_type": "stream",
     "text": [
      "Bootstrap sample [30.708917418315373, 0.8120276575958548, -1.9820547251010887, 1.0610429198754268]\n"
     ]
    },
    {
     "name": "stderr",
     "output_type": "stream",
     "text": [
      "least squares fit: 100%|██████████| 5000/5000 [00:09<00:00, 554.87it/s]\n",
      "least squares fit:   1%|          | 55/5000 [00:00<00:09, 547.36it/s]"
     ]
    },
    {
     "name": "stdout",
     "output_type": "stream",
     "text": [
      "Bootstrap sample [33.9582533427059, 0.999140341087539, -2.3303303150060786, -0.20068351600245557]\n"
     ]
    },
    {
     "name": "stderr",
     "output_type": "stream",
     "text": [
      "least squares fit: 100%|██████████| 5000/5000 [00:09<00:00, 534.15it/s]\n",
      "least squares fit:   1%|          | 59/5000 [00:00<00:08, 578.80it/s]"
     ]
    },
    {
     "name": "stdout",
     "output_type": "stream",
     "text": [
      "Bootstrap sample [31.635386240593153, 0.9370717399848525, -1.8396426031770725, -0.6807470150333136]\n"
     ]
    },
    {
     "name": "stderr",
     "output_type": "stream",
     "text": [
      "least squares fit: 100%|██████████| 5000/5000 [00:08<00:00, 558.98it/s]\n",
      "least squares fit:   1%|          | 59/5000 [00:00<00:08, 584.56it/s]"
     ]
    },
    {
     "name": "stdout",
     "output_type": "stream",
     "text": [
      "Bootstrap sample [33.090950623498294, 0.9845642169528687, -2.0784893880026853, -0.32023432694159626]\n"
     ]
    },
    {
     "name": "stderr",
     "output_type": "stream",
     "text": [
      "least squares fit: 100%|██████████| 5000/5000 [00:11<00:00, 437.13it/s]\n",
      "least squares fit:   1%|          | 51/5000 [00:00<00:09, 506.92it/s]"
     ]
    },
    {
     "name": "stdout",
     "output_type": "stream",
     "text": [
      "Bootstrap sample [31.447657042852082, 1.0442296068299626, -2.0571713293444924, -0.07633204800754761]\n"
     ]
    },
    {
     "name": "stderr",
     "output_type": "stream",
     "text": [
      "least squares fit: 100%|██████████| 5000/5000 [00:12<00:00, 397.32it/s]\n",
      "least squares fit:   1%|          | 55/5000 [00:00<00:09, 542.93it/s]"
     ]
    },
    {
     "name": "stdout",
     "output_type": "stream",
     "text": [
      "Bootstrap sample [29.022292725194124, 0.9717161515511781, -1.644975532943384, 1.780703249957765]\n"
     ]
    },
    {
     "name": "stderr",
     "output_type": "stream",
     "text": [
      "least squares fit: 100%|██████████| 5000/5000 [00:08<00:00, 571.06it/s]\n",
      "least squares fit:   1%|          | 50/5000 [00:00<00:09, 497.98it/s]"
     ]
    },
    {
     "name": "stdout",
     "output_type": "stream",
     "text": [
      "Bootstrap sample [26.79282986801452, 1.1584754215872437, -1.6194218736572465, 2.8329396297355167]\n"
     ]
    },
    {
     "name": "stderr",
     "output_type": "stream",
     "text": [
      "least squares fit: 100%|██████████| 5000/5000 [00:08<00:00, 579.09it/s]\n",
      "least squares fit:   1%|          | 59/5000 [00:00<00:08, 586.26it/s]"
     ]
    },
    {
     "name": "stdout",
     "output_type": "stream",
     "text": [
      "Bootstrap sample [29.912518847173406, 1.0224463740382754, -1.9140542213237752, 1.4179116995974257]\n"
     ]
    },
    {
     "name": "stderr",
     "output_type": "stream",
     "text": [
      "least squares fit: 100%|██████████| 5000/5000 [00:08<00:00, 580.13it/s]\n",
      "least squares fit:   1%|          | 62/5000 [00:00<00:08, 610.28it/s]"
     ]
    },
    {
     "name": "stdout",
     "output_type": "stream",
     "text": [
      "Bootstrap sample [32.5714271410897, 0.9417989572122136, -2.102249697871663, 0.6559016076835753]\n"
     ]
    },
    {
     "name": "stderr",
     "output_type": "stream",
     "text": [
      "least squares fit: 100%|██████████| 5000/5000 [00:08<00:00, 584.69it/s]\n",
      "least squares fit:   1%|          | 51/5000 [00:00<00:09, 506.34it/s]"
     ]
    },
    {
     "name": "stdout",
     "output_type": "stream",
     "text": [
      "Bootstrap sample [31.149897401063832, 0.8994763097532354, -1.7420474822695682, -0.6835045812318316]\n"
     ]
    },
    {
     "name": "stderr",
     "output_type": "stream",
     "text": [
      "least squares fit: 100%|██████████| 5000/5000 [00:08<00:00, 582.17it/s]\n",
      "least squares fit:   1%|          | 59/5000 [00:00<00:08, 585.77it/s]"
     ]
    },
    {
     "name": "stdout",
     "output_type": "stream",
     "text": [
      "Bootstrap sample [28.790260059434953, 1.042481378653121, -1.7376663079089971, 2.4688932352996344]\n"
     ]
    },
    {
     "name": "stderr",
     "output_type": "stream",
     "text": [
      "least squares fit: 100%|██████████| 5000/5000 [00:08<00:00, 587.85it/s]\n",
      "least squares fit:   2%|▎         | 125/5000 [00:00<00:07, 612.34it/s]"
     ]
    },
    {
     "name": "stdout",
     "output_type": "stream",
     "text": [
      "Bootstrap sample [32.24215867996321, 0.8984404058147808, -1.958026268538117, -1.088462848704586]\n"
     ]
    },
    {
     "name": "stderr",
     "output_type": "stream",
     "text": [
      "least squares fit: 100%|██████████| 5000/5000 [00:08<00:00, 579.84it/s]\n",
      "least squares fit:   1%|          | 47/5000 [00:00<00:10, 468.08it/s]"
     ]
    },
    {
     "name": "stdout",
     "output_type": "stream",
     "text": [
      "Bootstrap sample [28.9533348530169, 1.0876614187975753, -1.9318813300413737, 0.6268663414328137]\n"
     ]
    },
    {
     "name": "stderr",
     "output_type": "stream",
     "text": [
      "least squares fit: 100%|██████████| 5000/5000 [00:08<00:00, 564.34it/s]\n",
      "least squares fit:   1%|          | 59/5000 [00:00<00:08, 586.46it/s]"
     ]
    },
    {
     "name": "stdout",
     "output_type": "stream",
     "text": [
      "Bootstrap sample [28.024407259525045, 1.1239191988418515, -1.7361869224492306, 3.389258462996176]\n"
     ]
    },
    {
     "name": "stderr",
     "output_type": "stream",
     "text": [
      "least squares fit: 100%|██████████| 5000/5000 [00:08<00:00, 588.87it/s]\n",
      "least squares fit:   1%|          | 60/5000 [00:00<00:08, 596.26it/s]"
     ]
    },
    {
     "name": "stdout",
     "output_type": "stream",
     "text": [
      "Bootstrap sample [30.96565391889372, 0.8819075059803547, -2.0872383670478207, 1.8898539100837046]\n"
     ]
    },
    {
     "name": "stderr",
     "output_type": "stream",
     "text": [
      "least squares fit: 100%|██████████| 5000/5000 [00:08<00:00, 586.96it/s]\n",
      "least squares fit:   1%|          | 61/5000 [00:00<00:08, 607.07it/s]"
     ]
    },
    {
     "name": "stdout",
     "output_type": "stream",
     "text": [
      "Bootstrap sample [30.872744818681813, 1.0391534238678197, -1.8454804444395623, 0.6142140749568966]\n"
     ]
    },
    {
     "name": "stderr",
     "output_type": "stream",
     "text": [
      "least squares fit: 100%|██████████| 5000/5000 [00:08<00:00, 586.19it/s]\n",
      "least squares fit:   1%|          | 58/5000 [00:00<00:08, 572.03it/s]"
     ]
    },
    {
     "name": "stdout",
     "output_type": "stream",
     "text": [
      "Bootstrap sample [30.15382266063047, 1.0190483028183615, -1.9263310732751118, 1.0597498294699759]\n"
     ]
    },
    {
     "name": "stderr",
     "output_type": "stream",
     "text": [
      "least squares fit: 100%|██████████| 5000/5000 [00:08<00:00, 589.35it/s]\n",
      "least squares fit:   2%|▏         | 118/5000 [00:00<00:08, 597.88it/s]"
     ]
    },
    {
     "name": "stdout",
     "output_type": "stream",
     "text": [
      "Bootstrap sample [31.082006674005253, 1.0574411480464478, -1.890968073420247, -0.6928344527779831]\n"
     ]
    },
    {
     "name": "stderr",
     "output_type": "stream",
     "text": [
      "least squares fit: 100%|██████████| 5000/5000 [00:08<00:00, 564.37it/s]\n",
      "least squares fit:   1%|          | 57/5000 [00:00<00:08, 567.96it/s]"
     ]
    },
    {
     "name": "stdout",
     "output_type": "stream",
     "text": [
      "Bootstrap sample [31.21940509477899, 1.013133654751104, -1.705410210878033, -0.3925729159715095]\n"
     ]
    },
    {
     "name": "stderr",
     "output_type": "stream",
     "text": [
      "least squares fit: 100%|██████████| 5000/5000 [00:10<00:00, 496.32it/s]\n",
      "least squares fit:   1%|          | 60/5000 [00:00<00:08, 599.08it/s]"
     ]
    },
    {
     "name": "stdout",
     "output_type": "stream",
     "text": [
      "Bootstrap sample [30.44676248293616, 1.0104971000979364, -2.041795956677519, 2.1601919478109157]\n"
     ]
    },
    {
     "name": "stderr",
     "output_type": "stream",
     "text": [
      "least squares fit: 100%|██████████| 5000/5000 [00:08<00:00, 578.87it/s]\n",
      "least squares fit:   1%|          | 61/5000 [00:00<00:08, 608.73it/s]"
     ]
    },
    {
     "name": "stdout",
     "output_type": "stream",
     "text": [
      "Bootstrap sample [31.93539320490381, 0.8783048925388609, -1.9331677654333843, -0.7745441833746839]\n"
     ]
    },
    {
     "name": "stderr",
     "output_type": "stream",
     "text": [
      "least squares fit: 100%|██████████| 5000/5000 [00:08<00:00, 591.26it/s]\n",
      "least squares fit:   1%|          | 61/5000 [00:00<00:08, 600.24it/s]"
     ]
    },
    {
     "name": "stdout",
     "output_type": "stream",
     "text": [
      "Bootstrap sample [31.527207567921593, 0.9949917182699465, -2.0184977691857338, -0.5049904201264896]\n"
     ]
    },
    {
     "name": "stderr",
     "output_type": "stream",
     "text": [
      "least squares fit: 100%|██████████| 5000/5000 [00:08<00:00, 604.88it/s]\n",
      "least squares fit:   1%|          | 60/5000 [00:00<00:08, 596.27it/s]"
     ]
    },
    {
     "name": "stdout",
     "output_type": "stream",
     "text": [
      "Bootstrap sample [30.965472643272296, 0.9232895512666242, -2.0279540065053054, 0.9374834729199233]\n"
     ]
    },
    {
     "name": "stderr",
     "output_type": "stream",
     "text": [
      "least squares fit: 100%|██████████| 5000/5000 [00:08<00:00, 569.14it/s]\n",
      "least squares fit:   1%|          | 53/5000 [00:00<00:09, 523.55it/s]"
     ]
    },
    {
     "name": "stdout",
     "output_type": "stream",
     "text": [
      "Bootstrap sample [30.31341453414708, 0.8548547825137496, -1.7507229567428242, 1.552723271442447]\n"
     ]
    },
    {
     "name": "stderr",
     "output_type": "stream",
     "text": [
      "least squares fit: 100%|██████████| 5000/5000 [00:09<00:00, 542.75it/s]\n",
      "least squares fit:   1%|          | 60/5000 [00:00<00:08, 596.19it/s]"
     ]
    },
    {
     "name": "stdout",
     "output_type": "stream",
     "text": [
      "Bootstrap sample [29.188006895310387, 1.0300703762888912, -2.004363223806615, 1.8988243952225687]\n"
     ]
    },
    {
     "name": "stderr",
     "output_type": "stream",
     "text": [
      "least squares fit: 100%|██████████| 5000/5000 [00:08<00:00, 585.57it/s]\n",
      "least squares fit:   1%|          | 58/5000 [00:00<00:08, 579.99it/s]"
     ]
    },
    {
     "name": "stdout",
     "output_type": "stream",
     "text": [
      "Bootstrap sample [32.12513457459413, 1.0644016712462678, -2.1120993366570153, 0.35683191439386075]\n"
     ]
    },
    {
     "name": "stderr",
     "output_type": "stream",
     "text": [
      "least squares fit: 100%|██████████| 5000/5000 [00:08<00:00, 580.33it/s]\n",
      "least squares fit:   1%|          | 60/5000 [00:00<00:08, 594.21it/s]"
     ]
    },
    {
     "name": "stdout",
     "output_type": "stream",
     "text": [
      "Bootstrap sample [29.88384922499232, 1.03969922933248, -1.7951501240789904, 1.3801383483027827]\n"
     ]
    },
    {
     "name": "stderr",
     "output_type": "stream",
     "text": [
      "least squares fit: 100%|██████████| 5000/5000 [00:08<00:00, 574.34it/s]\n",
      "least squares fit:   2%|▏         | 114/5000 [00:00<00:08, 574.49it/s]"
     ]
    },
    {
     "name": "stdout",
     "output_type": "stream",
     "text": [
      "Bootstrap sample [28.21937556816069, 1.0998688658405462, -1.8082435403842358, 2.1754290797833127]\n"
     ]
    },
    {
     "name": "stderr",
     "output_type": "stream",
     "text": [
      "least squares fit: 100%|██████████| 5000/5000 [00:08<00:00, 574.13it/s]\n",
      "least squares fit:   1%|          | 58/5000 [00:00<00:08, 571.51it/s]"
     ]
    },
    {
     "name": "stdout",
     "output_type": "stream",
     "text": [
      "Bootstrap sample [29.881072687241044, 0.8839279777100423, -1.6898570770006889, 1.903365878245113]\n"
     ]
    },
    {
     "name": "stderr",
     "output_type": "stream",
     "text": [
      "least squares fit: 100%|██████████| 5000/5000 [00:09<00:00, 549.84it/s]\n",
      "least squares fit:   1%|          | 53/5000 [00:00<00:09, 524.96it/s]"
     ]
    },
    {
     "name": "stdout",
     "output_type": "stream",
     "text": [
      "Bootstrap sample [29.931163510798893, 1.1226857201210747, -1.7980518874253248, 0.02499406859226683]\n"
     ]
    },
    {
     "name": "stderr",
     "output_type": "stream",
     "text": [
      "least squares fit: 100%|██████████| 5000/5000 [00:08<00:00, 582.43it/s]\n",
      "least squares fit:   2%|▏         | 120/5000 [00:00<00:08, 605.07it/s]"
     ]
    },
    {
     "name": "stdout",
     "output_type": "stream",
     "text": [
      "Bootstrap sample [31.510916064491134, 0.943977244470323, -1.8643068932147215, 0.8947267703361393]\n"
     ]
    },
    {
     "name": "stderr",
     "output_type": "stream",
     "text": [
      "least squares fit: 100%|██████████| 5000/5000 [00:08<00:00, 601.67it/s]\n",
      "least squares fit:   1%|          | 62/5000 [00:00<00:08, 615.95it/s]"
     ]
    },
    {
     "name": "stdout",
     "output_type": "stream",
     "text": [
      "Bootstrap sample [32.12975308221566, 0.9158618745401994, -2.092579890107735, 0.7047265424117549]\n"
     ]
    },
    {
     "name": "stderr",
     "output_type": "stream",
     "text": [
      "least squares fit: 100%|██████████| 5000/5000 [00:08<00:00, 589.92it/s]\n",
      "least squares fit:   1%|          | 58/5000 [00:00<00:08, 577.03it/s]"
     ]
    },
    {
     "name": "stdout",
     "output_type": "stream",
     "text": [
      "Bootstrap sample [27.906062714874285, 1.1418860386419347, -1.7963499238023983, 1.6926024070084125]\n"
     ]
    },
    {
     "name": "stderr",
     "output_type": "stream",
     "text": [
      "least squares fit: 100%|██████████| 5000/5000 [00:08<00:00, 595.56it/s]\n",
      "least squares fit:   1%|          | 60/5000 [00:00<00:08, 598.40it/s]"
     ]
    },
    {
     "name": "stdout",
     "output_type": "stream",
     "text": [
      "Bootstrap sample [32.261385904789044, 1.0928232264992346, -2.003039246676954, -0.5079295366652075]\n"
     ]
    },
    {
     "name": "stderr",
     "output_type": "stream",
     "text": [
      "least squares fit: 100%|██████████| 5000/5000 [00:08<00:00, 595.52it/s]\n",
      "least squares fit:   1%|          | 62/5000 [00:00<00:07, 617.97it/s]"
     ]
    },
    {
     "name": "stdout",
     "output_type": "stream",
     "text": [
      "Bootstrap sample [29.43526855899261, 0.911756988609634, -1.980959464732494, 2.501647203601689]\n"
     ]
    },
    {
     "name": "stderr",
     "output_type": "stream",
     "text": [
      "least squares fit: 100%|██████████| 5000/5000 [00:08<00:00, 597.81it/s]\n",
      "least squares fit:   2%|▏         | 120/5000 [00:00<00:08, 590.82it/s]"
     ]
    },
    {
     "name": "stdout",
     "output_type": "stream",
     "text": [
      "Bootstrap sample [31.10313690700009, 0.8421407495586317, -1.8774549462686942, 0.7906782875223916]\n"
     ]
    },
    {
     "name": "stderr",
     "output_type": "stream",
     "text": [
      "least squares fit: 100%|██████████| 5000/5000 [00:08<00:00, 588.07it/s]\n",
      "least squares fit:   1%|          | 56/5000 [00:00<00:08, 559.78it/s]"
     ]
    },
    {
     "name": "stdout",
     "output_type": "stream",
     "text": [
      "Bootstrap sample [30.45854387834124, 0.9133878479744733, -1.6216037281464433, -0.5872676244243167]\n"
     ]
    },
    {
     "name": "stderr",
     "output_type": "stream",
     "text": [
      "least squares fit: 100%|██████████| 5000/5000 [00:08<00:00, 595.97it/s]"
     ]
    },
    {
     "name": "stdout",
     "output_type": "stream",
     "text": [
      "Bootstrap sample [30.91995465298862, 0.9259472909238278, -2.000770884699113, 0.5531513566898957]\n"
     ]
    },
    {
     "name": "stderr",
     "output_type": "stream",
     "text": [
      "\n"
     ]
    }
   ],
   "source": [
    "from typing import Tuple\n",
    "import datetime\n",
    "\n",
    "def estimate_sample_beta(pairs: List[Tuple[Vector, float]]) -> Vector:\n",
    "    x_sample = [x for x,_ in pairs]\n",
    "    y_sample = [y for _, y in pairs]\n",
    "    \n",
    "    beta = least_squares_fit(x_sample, y_sample, learning_rate, 5000, 25)\n",
    "    print(\"Bootstrap sample\", beta)\n",
    "    return beta\n",
    "random.random()\n",
    "inputs: List[List[float]] = [[1.,49,4,0],[1,41,9,0],[1,40,8,0],[1,25,6,0],[1,21,1,0],[1,21,0,0],[1,19,3,0],[1,19,0,0],[1,18,9,0],[1,18,8,0],[1,16,4,0],[1,15,3,0],[1,15,0,0],[1,15,2,0],[1,15,7,0],[1,14,0,0],[1,14,1,0],[1,13,1,0],[1,13,7,0],[1,13,4,0],[1,13,2,0],[1,12,5,0],[1,12,0,0],[1,11,9,0],[1,10,9,0],[1,10,1,0],[1,10,1,0],[1,10,7,0],[1,10,9,0],[1,10,1,0],[1,10,6,0],[1,10,6,0],[1,10,8,0],[1,10,10,0],[1,10,6,0],[1,10,0,0],[1,10,5,0],[1,10,3,0],[1,10,4,0],[1,9,9,0],[1,9,9,0],[1,9,0,0],[1,9,0,0],[1,9,6,0],[1,9,10,0],[1,9,8,0],[1,9,5,0],[1,9,2,0],[1,9,9,0],[1,9,10,0],[1,9,7,0],[1,9,2,0],[1,9,0,0],[1,9,4,0],[1,9,6,0],[1,9,4,0],[1,9,7,0],[1,8,3,0],[1,8,2,0],[1,8,4,0],[1,8,9,0],[1,8,2,0],[1,8,3,0],[1,8,5,0],[1,8,8,0],[1,8,0,0],[1,8,9,0],[1,8,10,0],[1,8,5,0],[1,8,5,0],[1,7,5,0],[1,7,5,0],[1,7,0,0],[1,7,2,0],[1,7,8,0],[1,7,10,0],[1,7,5,0],[1,7,3,0],[1,7,3,0],[1,7,6,0],[1,7,7,0],[1,7,7,0],[1,7,9,0],[1,7,3,0],[1,7,8,0],[1,6,4,0],[1,6,6,0],[1,6,4,0],[1,6,9,0],[1,6,0,0],[1,6,1,0],[1,6,4,0],[1,6,1,0],[1,6,0,0],[1,6,7,0],[1,6,0,0],[1,6,8,0],[1,6,4,0],[1,6,2,1],[1,6,1,1],[1,6,3,1],[1,6,6,1],[1,6,4,1],[1,6,4,1],[1,6,1,1],[1,6,3,1],[1,6,4,1],[1,5,1,1],[1,5,9,1],[1,5,4,1],[1,5,6,1],[1,5,4,1],[1,5,4,1],[1,5,10,1],[1,5,5,1],[1,5,2,1],[1,5,4,1],[1,5,4,1],[1,5,9,1],[1,5,3,1],[1,5,10,1],[1,5,2,1],[1,5,2,1],[1,5,9,1],[1,4,8,1],[1,4,6,1],[1,4,0,1],[1,4,10,1],[1,4,5,1],[1,4,10,1],[1,4,9,1],[1,4,1,1],[1,4,4,1],[1,4,4,1],[1,4,0,1],[1,4,3,1],[1,4,1,1],[1,4,3,1],[1,4,2,1],[1,4,4,1],[1,4,4,1],[1,4,8,1],[1,4,2,1],[1,4,4,1],[1,3,2,1],[1,3,6,1],[1,3,4,1],[1,3,7,1],[1,3,4,1],[1,3,1,1],[1,3,10,1],[1,3,3,1],[1,3,4,1],[1,3,7,1],[1,3,5,1],[1,3,6,1],[1,3,1,1],[1,3,6,1],[1,3,10,1],[1,3,2,1],[1,3,4,1],[1,3,2,1],[1,3,1,1],[1,3,5,1],[1,2,4,1],[1,2,2,1],[1,2,8,1],[1,2,3,1],[1,2,1,1],[1,2,9,1],[1,2,10,1],[1,2,9,1],[1,2,4,1],[1,2,5,1],[1,2,0,1],[1,2,9,1],[1,2,9,1],[1,2,0,1],[1,2,1,1],[1,2,1,1],[1,2,4,1],[1,1,0,1],[1,1,2,1],[1,1,2,1],[1,1,5,1],[1,1,3,1],[1,1,10,1],[1,1,6,1],[1,1,0,1],[1,1,8,1],[1,1,6,1],[1,1,4,1],[1,1,9,1],[1,1,9,1],[1,1,4,1],[1,1,2,1],[1,1,9,1],[1,1,0,1],[1,1,8,1],[1,1,6,1],[1,1,1,1],[1,1,1,1],[1,1,5,1]]\n",
    "\n",
    "bootstrap_betas = bootstrap_statistic(list(zip(inputs, daily_minutes_good)),\n",
    "                                     estimate_sample_beta, 100)\n",
    "    "
   ]
  },
  {
   "cell_type": "code",
   "execution_count": 69,
   "metadata": {},
   "outputs": [
    {
     "name": "stdout",
     "output_type": "stream",
     "text": [
      "[1.5219524275877918, 0.1192857978069685, 0.15773886355205657, 1.1614947920317897]\n"
     ]
    }
   ],
   "source": [
    "bootstrap_standard_errors = [\n",
    "    standard_deviation([beta[i] for beta in bootstrap_betas]) \n",
    "    for i in range(4)]\n",
    "\n",
    "print(bootstrap_standard_errors)"
   ]
  },
  {
   "cell_type": "code",
   "execution_count": 81,
   "metadata": {},
   "outputs": [
    {
     "data": {
      "text/plain": [
       "0.4599123452566005"
      ]
     },
     "execution_count": 81,
     "metadata": {},
     "output_type": "execute_result"
    }
   ],
   "source": [
    "from probability import normal_cdf;\n",
    "\n",
    "def p_value(beta_hat_j: float, sigma_hat_j: float) -> float:\n",
    "    if beta_hat_j > 0:\n",
    "        #if the coefficient is positive, we need to compute\n",
    "        #twice the probability of seeing an even larger value\"\"\"\n",
    "        return 2*(1-normal_cdf(beta_hat_j/sigma_hat_j))\n",
    "        #\"\"\"Otherwise twice the probability of a smaller value\"\"\"\n",
    "    else:\n",
    "        return 2*(normal_cdf(beta_hat_j/sigma_hat_j))\n",
    "    \n",
    "#p_value(30.58,1.27)\n",
    "p_value(0.923,1.249)"
   ]
  },
  {
   "cell_type": "code",
   "execution_count": 94,
   "metadata": {},
   "outputs": [],
   "source": [
    "## Regularization\n",
    "\n",
    "def ridge_penalty(beta: Vector,\n",
    "                 alpha: float) -> float:\n",
    "    return alpha * dot(beta[1:], beta[1:])\n",
    "\n",
    "def squared_error_ridge(x: Vector,\n",
    "                       y: float,\n",
    "                       alpha: float) -> float:\n",
    "    \"\"\"estimate error plus ridge penalty\"\"\"\n",
    "    return error(x,y,beta)**2 + ridge_penalty(beta, alpha)\n",
    "\n",
    "from vector_operations import add\n",
    "def ridge_penality_gradient(beta: Vector, alpha: float) -> float:\n",
    "    \"\"\"gradient of just ridge penality\"\"\"\n",
    "    return [0.] + [2*alpha*beta_j for beta_j in beta[1:]]\n",
    "\n",
    "def sqerror_ridge_gradient(x: Vector,\n",
    "                          y: float, beta: Vector,\n",
    "                          alpha: float) -> Vector:\n",
    "    \"\"\"gradient corresponding to the i-th squared error term\n",
    "    including ridge penalty\"\"\"\n",
    "    return add(sqerror_gradient(x,y,beta), \n",
    "               ridge_penality_gradient(beta, alpha))\n",
    "\n",
    "def least_squares_fit(xs: List[Vector],\n",
    "                     ys: Vector,\n",
    "                     alpha: float,\n",
    "                     learning_rate: float = 0.001,\n",
    "                     num_steps: int = 1000,\n",
    "                     batch_size: int = 1) -> Vector:\n",
    "    \"\"\"Finds beta that minimizes the sum of squared errors\n",
    "    assuming the model dot(x, beta)\"\"\"\n",
    "    # start with random guess\n",
    "    guess = [random.random() for _ in xs[0]]\n",
    "    \n",
    "    for _ in tqdm.trange(num_steps, desc = \"least squares fit\"):\n",
    "        for start in range(0,len(xs), batch_size):\n",
    "            batch_xs = xs[start:start+batch_size]\n",
    "            batch_ys = ys[start:start+batch_size]\n",
    "            \n",
    "            gradient = vector_mean([sqerror_ridge_gradient(x,y,guess,alpha)\n",
    "                                  for x,y in zip(batch_xs, batch_ys)])\n",
    "            \n",
    "            guess = gradient_step(guess, gradient, -learning_rate)\n",
    "    return guess"
   ]
  },
  {
   "cell_type": "code",
   "execution_count": 95,
   "metadata": {},
   "outputs": [
    {
     "name": "stderr",
     "output_type": "stream",
     "text": [
      "least squares fit: 100%|██████████| 5000/5000 [00:10<00:00, 473.16it/s]\n"
     ]
    }
   ],
   "source": [
    "random.seed(0)\n",
    "beta_0 = least_squares_fit(inputs, daily_minutes_good, 0.0,\n",
    "                          learning_rate, 5000,25)"
   ]
  },
  {
   "cell_type": "code",
   "execution_count": 97,
   "metadata": {},
   "outputs": [
    {
     "data": {
      "text/plain": [
       "[30.514795945185586, 0.9748274277323267, -1.8506912934343662, 0.91407780744768]"
      ]
     },
     "execution_count": 97,
     "metadata": {},
     "output_type": "execute_result"
    }
   ],
   "source": [
    "beta_0"
   ]
  },
  {
   "cell_type": "code",
   "execution_count": 98,
   "metadata": {},
   "outputs": [],
   "source": [
    "def lasso_penlty(beta,alpha):\n",
    "    return alpha*sum(abs(beta_i) for beta_i in beta[1:])"
   ]
  },
  {
   "cell_type": "code",
   "execution_count": null,
   "metadata": {},
   "outputs": [],
   "source": []
  }
 ],
 "metadata": {
  "kernelspec": {
   "display_name": "Python 3",
   "language": "python",
   "name": "python3"
  },
  "language_info": {
   "codemirror_mode": {
    "name": "ipython",
    "version": 3
   },
   "file_extension": ".py",
   "mimetype": "text/x-python",
   "name": "python",
   "nbconvert_exporter": "python",
   "pygments_lexer": "ipython3",
   "version": "3.7.3"
  }
 },
 "nbformat": 4,
 "nbformat_minor": 2
}
